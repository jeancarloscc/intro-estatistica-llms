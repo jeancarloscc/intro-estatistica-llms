{
 "cells": [
  {
   "cell_type": "markdown",
   "id": "85e015ba-a7a2-49d1-a818-eedbb9df0e07",
   "metadata": {},
   "source": [
    "# Simulação do Processo de Rede Neural Desenrolada (Unrolled Neural Network)"
   ]
  },
  {
   "cell_type": "markdown",
   "id": "e062c84b-cd80-4a13-8be9-a57988f55e52",
   "metadata": {},
   "source": [
    "Em uma rede neural recorrente (RNN), o \"unrolling\" refere-se à \"desenrolação\" da rede, onde a rede é desenrolada ao longo do tempo. Para ilustrar esse processo, vamos criar uma rede simples em PyTorch e simular esse \"unrolling\"."
   ]
  },
  {
   "cell_type": "code",
   "execution_count": 23,
   "id": "62792e2c-dd25-4a58-935e-a42a7415c424",
   "metadata": {},
   "outputs": [],
   "source": [
    "import torch\n",
    "import torch.nn as nn\n",
    "import torch.optim as optim\n",
    "import matplotlib.pyplot as plt"
   ]
  },
  {
   "cell_type": "code",
   "execution_count": 24,
   "id": "2c7d36a0-8473-4131-b402-b5107d295c16",
   "metadata": {},
   "outputs": [],
   "source": [
    "# Definindo uma rede neural simples com uma camada RNN\n",
    "class SimpleRNN(nn.Module):\n",
    "    def __init__(self, input_size, hidden_size, output_size):\n",
    "        super(SimpleRNN, self).__init__()\n",
    "        self.hidden_size = hidden_size\n",
    "        self.rnn = nn.RNN(input_size, hidden_size, batch_first=True)\n",
    "        self.fc = nn.Linear(hidden_size, output_size)\n",
    "    \n",
    "    def forward(self, x):\n",
    "        # Inicializando o estado oculto\n",
    "        h0 = torch.zeros(1, x.size(0), self.hidden_size)\n",
    "        out, _ = self.rnn(x, h0)\n",
    "        out = self.fc(out[:, -1, :])  # Pegando a saída final\n",
    "        return out"
   ]
  },
  {
   "cell_type": "code",
   "execution_count": 25,
   "id": "5914d921-e6ad-45ab-9bff-fba4dcb5a272",
   "metadata": {},
   "outputs": [],
   "source": [
    "# Dados de entrada (um batch de tamanho 1 com 3 timesteps)\n",
    "input_data = torch.tensor([[[0.1], [0.2], [0.3]]], dtype=torch.float32)"
   ]
  },
  {
   "cell_type": "code",
   "execution_count": 26,
   "id": "927e6a4d-2355-4dd5-9ab8-874eed1a4148",
   "metadata": {},
   "outputs": [],
   "source": [
    "# Inicializando a rede\n",
    "model = SimpleRNN(input_size=1, hidden_size=5, output_size=1)\n",
    "output = model(input_data)"
   ]
  },
  {
   "cell_type": "code",
   "execution_count": 27,
   "id": "8ce77fa1-8995-42ea-9f92-dde9ad068c8d",
   "metadata": {},
   "outputs": [
    {
     "name": "stdout",
     "output_type": "stream",
     "text": [
      "Saída da rede neural: tensor([[-0.2218]], grad_fn=<AddmmBackward0>)\n"
     ]
    }
   ],
   "source": [
    "print(\"Saída da rede neural:\", output)"
   ]
  },
  {
   "cell_type": "markdown",
   "id": "07e00530-c1e0-41cd-816e-acdba45140f8",
   "metadata": {},
   "source": [
    "# Principais Problemas com Redes Neurais Recorrentes (RNNs)"
   ]
  },
  {
   "cell_type": "markdown",
   "id": "a418cc5b-f50d-43c1-ba75-ae7ae3f8e75e",
   "metadata": {},
   "source": [
    "Agora, vamos discutir três problemas principais com RNNs, que você pode usar como base para criar os slides:\n",
    "\n",
    "Slide 1: Problema de Desvanecimento de Gradiente (Vanishing Gradient)\n",
    "O principal problema em RNNs clássicas é o desvanecimento de gradiente, onde o gradiente se torna extremamente pequeno ao longo do tempo durante o treinamento, dificultando a aprendizagem de dependências de longo prazo.\n",
    "\n",
    "O desvanecimento de gradiente ocorre quando os pesos das redes recorrentes são multiplicados por números pequenos ao longo das iterações, fazendo com que as atualizações do peso se tornem quase nulas.\n",
    "\n",
    "Slide 2: Explosão de Gradiente (Exploding Gradient)\n",
    "\n",
    "O explosão de gradiente ocorre quando o gradiente cresce exponencialmente, resultando em valores de peso muito grandes e instabilidade no treinamento.\n",
    "Isso geralmente acontece em redes profundas e em tarefas de sequência longa, onde o cálculo do gradiente em muitas camadas leva a grandes valores numéricos.\n",
    "\n",
    "Slide 3: Dificuldade em Aprender Dependências de Longo Prazo\n",
    "Redes RNN tradicionais têm dificuldade em capturar dependências de longo prazo devido à propagação do erro nas camadas ao longo de muitas iterações.\n",
    "Modelos como LSTM (Long Short-Term Memory) ou GRU (Gated Recurrent Units) foram desenvolvidos para resolver esse problema, usando mecanismos de \"portas\" para controlar o fluxo de informações.\n",
    "\n",
    "3. Explorando Embeddings de Palavras com Redes Neurais\n",
    "Agora, vamos criar duas redes neurais simples em PyTorch para treinar embeddings de palavras em duas dimensões diferentes (2D e 4D). Vamos usar duas frases com três palavras.\n",
    "\n"
   ]
  },
  {
   "cell_type": "markdown",
   "id": "c7d2d5ed-b3da-4b3a-b681-09d4c40237a9",
   "metadata": {},
   "source": [
    "## Preparação do treinamento"
   ]
  },
  {
   "cell_type": "code",
   "execution_count": 28,
   "id": "94e85395-876a-4d98-a1ed-311ac257ec3e",
   "metadata": {},
   "outputs": [],
   "source": [
    "# Frases de treinamento\n",
    "sentences = [['I', 'love', 'AI'], ['AI', 'is', 'amazing']]\n",
    "\n",
    "# Dicionário de mapeamento de palavras para índices\n",
    "word_to_idx = {'I': 0, 'love': 1, 'AI': 2, 'is': 3, 'amazing': 4}\n",
    "vocab_size = len(word_to_idx)"
   ]
  },
  {
   "cell_type": "code",
   "execution_count": 29,
   "id": "96b7c6cb-335b-4771-a9b7-17c2b93fd44c",
   "metadata": {},
   "outputs": [],
   "source": [
    "# Dados de entrada (representação dos índices das palavras)\n",
    "input_data = torch.tensor([[0, 1, 2], [2, 3, 4]])\n"
   ]
  },
  {
   "cell_type": "code",
   "execution_count": 30,
   "id": "f72b2caf-7810-4105-a8a5-43c85a963237",
   "metadata": {},
   "outputs": [],
   "source": [
    "# Definindo a rede neural com embeddings\n",
    "class WordEmbeddingModel(nn.Module):\n",
    "    def __init__(self, vocab_size, embedding_dim):\n",
    "        super(WordEmbeddingModel, self).__init__()\n",
    "        self.embeddings = nn.Embedding(vocab_size, embedding_dim)\n",
    "\n",
    "    def forward(self, input):\n",
    "        return self.embeddings(input)"
   ]
  },
  {
   "cell_type": "code",
   "execution_count": 31,
   "id": "bc3e4f38-4ca1-40f3-8857-bdf8a940111e",
   "metadata": {},
   "outputs": [],
   "source": [
    "# Modelo com embedding de dimensão 2\n",
    "model_2d = WordEmbeddingModel(vocab_size, 2)\n",
    "loss_fn = nn.MSELoss()\n",
    "optimizer = torch.optim.SGD(model_2d.parameters(), lr=0.01)"
   ]
  },
  {
   "cell_type": "code",
   "execution_count": 32,
   "id": "758e3272-ceff-4d89-ae4a-7a6a38d28962",
   "metadata": {},
   "outputs": [],
   "source": [
    "# Treinamento (simulando com uma tarefa simples)\n",
    "def train(model, data, epochs=100):\n",
    "    for epoch in range(epochs):\n",
    "        model.zero_grad()\n",
    "        output = model(data)\n",
    "        target = torch.randn_like(output)  # Simulação de alvo (target)\n",
    "        loss = loss_fn(output, target)\n",
    "        loss.backward()\n",
    "        optimizer.step()"
   ]
  },
  {
   "cell_type": "code",
   "execution_count": 33,
   "id": "812c5541-f254-4fe6-94c9-6ebcf8d44b33",
   "metadata": {},
   "outputs": [],
   "source": [
    "train(model_2d, input_data)\n",
    "\n",
    "# Obter embeddings após o treinamento\n",
    "embeddings_2d = model_2d(input_data).detach().numpy()"
   ]
  },
  {
   "cell_type": "code",
   "execution_count": 34,
   "id": "bd00af5c-2627-46bd-a75a-ebba232319e0",
   "metadata": {},
   "outputs": [
    {
     "data": {
      "image/png": "[encoded data removed]",
      "text/plain": [
       "<Figure size 640x480 with 1 Axes>"
      ]
     },
     "metadata": {},
     "output_type": "display_data"
    }
   ],
   "source": [
    "# Plotando os embeddings 2D antes e depois do treinamento\n",
    "plt.scatter(embeddings_2d[:, 0], embeddings_2d[:, 1], color='blue')\n",
    "plt.title(\"Embeddings de Palavras (2D) após o treinamento\")\n",
    "plt.xlabel(\"Dimensão 1\")\n",
    "plt.ylabel(\"Dimensão 2\")\n",
    "plt.show()"
   ]
  },
  {
   "cell_type": "markdown",
   "id": "03a9384d-ecc8-41c3-b122-fe6fc513afa3",
   "metadata": {},
   "source": [
    "## Passo 2: Modelo com Embedding de 4D"
   ]
  },
  {
   "cell_type": "code",
   "execution_count": 35,
   "id": "22b7cb08-04f7-47e3-948c-4cac2dcddd86",
   "metadata": {},
   "outputs": [],
   "source": [
    "# Modelo com embedding de dimensão 4\n",
    "model_4d = WordEmbeddingModel(vocab_size, 4)"
   ]
  },
  {
   "cell_type": "code",
   "execution_count": 36,
   "id": "f32ad17a-8a2b-4412-b6ea-e484853a8eac",
   "metadata": {},
   "outputs": [],
   "source": [
    "# Repetir o processo de treinamento\n",
    "optimizer = torch.optim.SGD(model_4d.parameters(), lr=0.01)\n",
    "train(model_4d, input_data)"
   ]
  },
  {
   "cell_type": "code",
   "execution_count": 37,
   "id": "7fe28fc7-375f-4bc3-8e55-d9eb2cc4b6e5",
   "metadata": {},
   "outputs": [],
   "source": [
    "# Obter embeddings após o treinamento\n",
    "embeddings_4d = model_4d(input_data).detach().numpy()"
   ]
  },
  {
   "cell_type": "code",
   "execution_count": 38,
   "id": "3d06db95-8129-4471-9d85-8e6d56f40382",
   "metadata": {},
   "outputs": [],
   "source": [
    "# Reshape para (n_samples, n_features) - precisamos \"achatar\" a dimensão das palavras\n",
    "# Aqui, vamos juntar os embeddings de todas as palavras das frases\n",
    "n_samples = embeddings_4d.shape[0]  # Número de frases\n",
    "n_words = embeddings_4d.shape[1]    # Número de palavras por frase\n",
    "embedding_dim = embeddings_4d.shape[2]  # Dimensão do embedding (4D)\n",
    "\n",
    "# \"Achatar\" a matriz para PCA, transformando em (n_samples * n_words, embedding_dim)\n",
    "embeddings_4d_flat = embeddings_4d.reshape(-1, embedding_dim)"
   ]
  },
  {
   "cell_type": "code",
   "execution_count": 39,
   "id": "1f925d1a-b5ba-4b18-be89-f68911ad1254",
   "metadata": {},
   "outputs": [],
   "source": [
    "# Plotando os embeddings 4D (reduzindo para 2D para visualização)\n",
    "from sklearn.decomposition import PCA"
   ]
  },
  {
   "cell_type": "code",
   "execution_count": 41,
   "id": "cac5c6b8-9eb8-4a6d-877b-dc0a940482c7",
   "metadata": {},
   "outputs": [
    {
     "data": {
      "image/png": "[encoded data removed]",
      "text/plain": [
       "<Figure size 640x480 with 1 Axes>"
      ]
     },
     "metadata": {},
     "output_type": "display_data"
    }
   ],
   "source": [
    "pca = PCA(n_components=2)\n",
    "embeddings_4d_2d = pca.fit_transform(embeddings_4d_flat)\n",
    "\n",
    "plt.scatter(embeddings_4d_2d[:, 0], embeddings_4d_2d[:, 1], color='red')\n",
    "plt.title(\"Embeddings de Palavras (4D) após o treinamento\")\n",
    "plt.xlabel(\"Dimensão 1\")\n",
    "plt.ylabel(\"Dimensão 2\")\n",
    "plt.show()"
   ]
  }
 ],
 "metadata": {
  "kernelspec": {
   "display_name": "Python 3 (ipykernel)",
   "language": "python",
   "name": "python3"
  },
  "language_info": {
   "codemirror_mode": {
    "name": "ipython",
    "version": 3
   },
   "file_extension": ".py",
   "mimetype": "text/x-python",
   "name": "python",
   "nbconvert_exporter": "python",
   "pygments_lexer": "ipython3",
   "version": "3.12.8"
  }
 },
 "nbformat": 4,
 "nbformat_minor": 5
}
