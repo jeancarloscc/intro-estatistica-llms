{
 "cells": [
  {
   "cell_type": "markdown",
   "id": "daaf49c5-8aa5-4c84-86af-9a8b3266a79b",
   "metadata": {},
   "source": [
    "# Discente: **Jean Carlos de Carvalho Costa**"
   ]
  },
  {
   "cell_type": "markdown",
   "id": "2b58c708-9817-4521-b2c3-e81cc8e1f3c4",
   "metadata": {},
   "source": [
    "# Experimento: Cross-Entropy Loss com Softmax\n",
    "\n",
    "Este experimento demonstra o uso da função Softmax e a evolução da perda de entropia cruzada ao longo de várias iterações. O objetivo é minimizar a entropia por meio de perturbações gaussianas nos logits iniciais.\n",
    "\n",
    "Vamos explorar o seguinte processo:\n",
    "\n",
    "1. Definição das funções principais: Softmax e Cross-Entropy Loss.\n",
    "2. Inicialização de logits aleatórios e labels one-hot.\n",
    "3. Cálculo inicial da perda e aplicação do Softmax.\n",
    "4. Aplicação iterativa de perturbações gaussianas para minimizar a entropia.\n",
    "5. Visualização da evolução da entropia.\n"
   ]
  },
  {
   "cell_type": "code",
   "execution_count": 19,
   "id": "0165d0de-cbb0-41a2-be2f-5bfde9f66562",
   "metadata": {},
   "outputs": [],
   "source": [
    "import numpy as np\n",
    "import matplotlib.pyplot as plt"
   ]
  },
  {
   "cell_type": "code",
   "execution_count": 20,
   "id": "df2d3175-3e78-4e3b-a178-8f49d36d5026",
   "metadata": {},
   "outputs": [],
   "source": [
    "# Configurações iniciais\n",
    "np.random.seed()  # Define a semente baseada no relógio do sistema\n",
    "\n",
    "def softmax(logits):\n",
    "    exp_logits = np.exp(logits - np.max(logits))\n",
    "    return exp_logits / np.sum(exp_logits, axis=1, keepdims=True)\n",
    "\n",
    "# Função para calcular a perda de entropia cruzada\n",
    "def cross_entropy_loss(probs, labels):\n",
    "    return -np.sum(labels * np.log(probs), axis=1)\n",
    "\n",
    "# Função para gerar variações nos logits\n",
    "def generate_variations(original_logits, noise_level):\n",
    "    return [np.random.normal(loc=original_logits, scale=noise_level) for _ in range(4)]"
   ]
  },
  {
   "cell_type": "code",
   "execution_count": 21,
   "id": "97f1be62-1ec3-4313-b56d-dbd16d40da1d",
   "metadata": {},
   "outputs": [
    {
     "name": "stdout",
     "output_type": "stream",
     "text": [
      "Logits iniciais:\n",
      "[[2.5 0.3 2.1]\n",
      " [1.2 2.4 0.1]\n",
      " [0.8 0.5 3. ]]\n",
      "\n",
      "Labels (one-hot encoded):\n",
      "[[1. 0. 0.]\n",
      " [0. 1. 0.]\n",
      " [0. 0. 1.]]\n"
     ]
    }
   ],
   "source": [
    "def initialize():\n",
    "    num_samples = 3\n",
    "    num_classes = 3\n",
    "    # logits = np.random.uniform(0.1, 3.0, (num_samples, num_classes))\n",
    "    logits = np.array([[2.5, 0.3, 2.1],\n",
    "        [1.2, 2.4, 0.1],\n",
    "        [0.8, 0.5, 3.0]])\n",
    "    labels = np.eye(num_classes)  # Rótulos one-hot encoded\n",
    "    return logits, labels\n",
    "\n",
    "logits, labels = initialize()\n",
    "print(\"Logits iniciais:\")\n",
    "print(logits)\n",
    "print(\"\\nLabels (one-hot encoded):\")\n",
    "print(labels)"
   ]
  },
  {
   "cell_type": "markdown",
   "id": "89d76c15-2d15-4231-bb8d-1531ec3ebf14",
   "metadata": {},
   "source": [
    "## Visualização Inicial\n",
    "\n",
    "Aqui estão os logits gerados aleatoriamente e os rótulos one-hot. Agora, aplicaremos o Softmax para calcular as probabilidades.\n"
   ]
  },
  {
   "cell_type": "code",
   "execution_count": 22,
   "id": "c74e7ae7-175a-4eba-977f-87f81ee4fa67",
   "metadata": {},
   "outputs": [
    {
     "name": "stdout",
     "output_type": "stream",
     "text": [
      "Probabilidades iniciais:\n",
      "[[0.56144347 0.06220971 0.37634682]\n",
      " [0.21491566 0.71354513 0.07153921]\n",
      " [0.09288646 0.06881198 0.83830156]]\n",
      "\n",
      "Perda de entropia cruzada por amostra:\n",
      "[0.57724418 0.3375096  0.17637739]\n",
      "\n",
      "Perda média inicial:\n",
      "0.36371038786807586\n"
     ]
    }
   ],
   "source": [
    "# Aplica Softmax e calcula a perda inicial\n",
    "probs = softmax(logits)\n",
    "loss_per_sample = cross_entropy_loss(probs, labels)\n",
    "\n",
    "print(\"Probabilidades iniciais:\")\n",
    "print(probs)\n",
    "\n",
    "print(\"\\nPerda de entropia cruzada por amostra:\")\n",
    "print(loss_per_sample)\n",
    "\n",
    "print(\"\\nPerda média inicial:\")\n",
    "print(loss_per_sample.mean())\n"
   ]
  },
  {
   "cell_type": "code",
   "execution_count": 23,
   "id": "91c680bc-735d-4cb4-a8e2-7ca7572602f4",
   "metadata": {},
   "outputs": [
    {
     "data": {
      "text/plain": [
       "array([[1., 0., 0.],\n",
       "       [0., 1., 0.],\n",
       "       [0., 0., 1.]])"
      ]
     },
     "execution_count": 23,
     "metadata": {},
     "output_type": "execute_result"
    }
   ],
   "source": [
    "labels"
   ]
  },
  {
   "cell_type": "markdown",
   "id": "9dd911da-feba-47ab-ad43-38c26b6ab11d",
   "metadata": {},
   "source": [
    "## Variações nos Logits\n",
    "\n",
    "A cada iteração, geramos novas versões dos logits originais com pequenas alterações aleatórias (ruído). Essas variações ajudam a explorar melhores soluções.\n",
    "\n",
    "1. **Logits Originais:** Mantidos como referência.\n",
    "2. **Variações Geradas:** Aplicamos pequenas alterações gaussianas.\n",
    "3. **Seleção:** Escolhemos o conjunto com menor entropia para a próxima iteração."
   ]
  },
  {
   "cell_type": "code",
   "execution_count": 24,
   "id": "94e5dd4e-d2fd-4935-86a6-b7d865fc8b72",
   "metadata": {},
   "outputs": [
    {
     "name": "stdout",
     "output_type": "stream",
     "text": [
      "Perda média após a seleção da melhor variação:\n",
      "0.18903066878638597\n"
     ]
    }
   ],
   "source": [
    "# Configuração para as variações\n",
    "noise_level = 0.5\n",
    "\n",
    "# Gera variações e calcula perdas\n",
    "variations = generate_variations(logits, noise_level)\n",
    "all_logit_sets = [logits] + variations\n",
    "all_losses = []\n",
    "\n",
    "for variation_logits in all_logit_sets:\n",
    "    probs = softmax(variation_logits)\n",
    "    loss = cross_entropy_loss(probs, labels)\n",
    "    all_losses.append(loss.mean())\n",
    "\n",
    "# Seleciona o conjunto com menor perda\n",
    "sorted_indices = np.argsort(all_losses)\n",
    "logits = all_logit_sets[sorted_indices[0]]\n",
    "\n",
    "print(\"Perda média após a seleção da melhor variação:\")\n",
    "print(all_losses[sorted_indices[0]])\n"
   ]
  },
  {
   "cell_type": "code",
   "execution_count": 25,
   "id": "c35806ee-47b0-4c4f-8ab8-dee974d6804b",
   "metadata": {},
   "outputs": [
    {
     "data": {
      "text/plain": [
       "[array([[2.5, 0.3, 2.1],\n",
       "        [1.2, 2.4, 0.1],\n",
       "        [0.8, 0.5, 3. ]]),\n",
       " array([[ 2.37679031, -0.16236922,  1.83308511],\n",
       "        [ 2.26591817,  2.86654262, -0.2938961 ],\n",
       "        [ 1.18115071,  0.97450881,  2.43458237]]),\n",
       " array([[2.28499119, 0.26819231, 1.96122376],\n",
       "        [1.09196599, 2.23300108, 0.03493805],\n",
       "        [0.59440816, 0.6953249 , 3.23061367]]),\n",
       " array([[ 3.64727298,  0.03429463,  2.1307398 ],\n",
       "        [ 1.14913237,  2.89423445,  0.26962398],\n",
       "        [ 0.70236118, -0.12175525,  3.07401721]]),\n",
       " array([[ 2.63066853, -0.48149698,  2.18268548],\n",
       "        [ 0.49061296,  2.44542251,  0.10080793],\n",
       "        [ 1.10977407,  0.6955538 ,  2.46642316]])]"
      ]
     },
     "execution_count": 25,
     "metadata": {},
     "output_type": "execute_result"
    }
   ],
   "source": [
    "all_logit_sets"
   ]
  },
  {
   "cell_type": "code",
   "execution_count": 26,
   "id": "6651ad14-9ef0-4a3e-a5f6-4ee773b17d50",
   "metadata": {},
   "outputs": [
    {
     "name": "stdout",
     "output_type": "stream",
     "text": [
      "Iterações concluídas.\n"
     ]
    }
   ],
   "source": [
    "# Processo iterativo\n",
    "num_iterations = 30\n",
    "entropy_evolution = []\n",
    "\n",
    "logits, labels = initialize()\n",
    "\n",
    "for iteration in range(num_iterations):\n",
    "    probs_original = softmax(logits)\n",
    "    loss_per_sample = cross_entropy_loss(probs_original, labels)\n",
    "    variations = generate_variations(logits, noise_level)\n",
    "\n",
    "    all_logit_sets = [logits] + variations\n",
    "    all_losses = []\n",
    "\n",
    "    for variation_logits in all_logit_sets:\n",
    "        probs = softmax(variation_logits)\n",
    "        loss = cross_entropy_loss(probs, labels)\n",
    "        all_losses.append(loss.mean())\n",
    "\n",
    "    sorted_indices = np.argsort(all_losses)\n",
    "    logits = all_logit_sets[sorted_indices[0]]\n",
    "    entropy_evolution.append(all_losses[sorted_indices[0]])\n",
    "\n",
    "print(\"Iterações concluídas.\")\n"
   ]
  },
  {
   "cell_type": "code",
   "execution_count": 27,
   "id": "44301508-cc22-41d7-abcb-6cf4661d76ad",
   "metadata": {},
   "outputs": [
    {
     "data": {
      "image/png": "[encoded data removed]",
      "text/plain": [
       "<Figure size 1000x600 with 1 Axes>"
      ]
     },
     "metadata": {},
     "output_type": "display_data"
    }
   ],
   "source": [
    "# Visualização da evolução da entropia\n",
    "plt.figure(figsize=(10, 6))\n",
    "plt.plot(entropy_evolution, marker='o')\n",
    "plt.title('Evolução da Entropia ao Longo das Iterações')\n",
    "plt.xlabel('Iteração')\n",
    "plt.ylabel('Entropia Média')\n",
    "plt.grid()\n",
    "plt.show()\n"
   ]
  }
 ],
 "metadata": {
  "kernelspec": {
   "display_name": "Python 3 (ipykernel)",
   "language": "python",
   "name": "python3"
  },
  "language_info": {
   "codemirror_mode": {
    "name": "ipython",
    "version": 3
   },
   "file_extension": ".py",
   "mimetype": "text/x-python",
   "name": "python",
   "nbconvert_exporter": "python",
   "pygments_lexer": "ipython3",
   "version": "3.12.8"
  }
 },
 "nbformat": 4,
 "nbformat_minor": 5
}
