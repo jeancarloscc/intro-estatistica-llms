{
 "cells": [
  {
   "cell_type": "markdown",
   "id": "43a41555-0316-40a5-9123-f56bf75ff28c",
   "metadata": {
    "jp-MarkdownHeadingCollapsed": true
   },
   "source": [
    "# Atividade 7 - Métricas, Features e Rede Neural Simple\n",
    "\n",
    "Neste Notebook, será abordado as principais métricas de avaliação (**accuracy**, **precision**, **recall** e **F1-score**), apresentando exemplos práticos com matrizes de confusão e análises críticas. Além disso, integraremos os códigos e figuras dos notebooks indicados para uma compreensão do tema."
   ]
  },
  {
   "cell_type": "markdown",
   "id": "6a511b5a-e65f-4293-9695-7150a76fe673",
   "metadata": {},
   "source": [
    "## Accuracy (Acurácia)"
   ]
  },
  {
   "cell_type": "markdown",
   "id": "0763527d-45c1-46f8-9667-b782c351cd0c",
   "metadata": {},
   "source": [
    "A acurácia mede a proporção de previsões corretas feitas pelo modelo, ou seja, a fração de amostras classificadas corretamente entre todas as previsões."
   ]
  },
  {
   "cell_type": "markdown",
   "id": "104b7049-3b2b-4889-b660-5bfbb8079c82",
   "metadata": {},
   "source": [
    "$$ Accuracy = \\frac{TP + TN} {TP + TN + FP + FM} $$"
   ]
  },
  {
   "cell_type": "markdown",
   "id": "a0332af8-f2fa-429f-87d8-296e65cb394e",
   "metadata": {},
   "source": [
    "### Vantagens\n",
    " * Funciona bem quando há uma distribuição equilibrada entre classes.\n",
    " * Fácil de interpretar."
   ]
  },
  {
   "cell_type": "code",
   "execution_count": 17,
   "id": "50149674-72ba-4c13-80c5-6a30c1ee5086",
   "metadata": {},
   "outputs": [
    {
     "data": {
      "text/html": [
       "<div>\n",
       "<style scoped>\n",
       "    .dataframe tbody tr th:only-of-type {\n",
       "        vertical-align: middle;\n",
       "    }\n",
       "\n",
       "    .dataframe tbody tr th {\n",
       "        vertical-align: top;\n",
       "    }\n",
       "\n",
       "    .dataframe thead th {\n",
       "        text-align: right;\n",
       "    }\n",
       "</style>\n",
       "<table border=\"1\" class=\"dataframe\">\n",
       "  <thead>\n",
       "    <tr style=\"text-align: right;\">\n",
       "      <th></th>\n",
       "      <th>Predito Positivo</th>\n",
       "      <th>Predito Negativo</th>\n",
       "    </tr>\n",
       "  </thead>\n",
       "  <tbody>\n",
       "    <tr>\n",
       "      <th>Classe Positiva</th>\n",
       "      <td>50</td>\n",
       "      <td>10</td>\n",
       "    </tr>\n",
       "    <tr>\n",
       "      <th>Classe Negativa</th>\n",
       "      <td>5</td>\n",
       "      <td>35</td>\n",
       "    </tr>\n",
       "  </tbody>\n",
       "</table>\n",
       "</div>"
      ],
      "text/plain": [
       "                 Predito Positivo  Predito Negativo\n",
       "Classe Positiva                50                10\n",
       "Classe Negativa                 5                35"
      ]
     },
     "execution_count": 17,
     "metadata": {},
     "output_type": "execute_result"
    }
   ],
   "source": [
    "import pandas as pd\n",
    "\n",
    "# Criação da matriz de confusão\n",
    "cm = pd.DataFrame([[50, 10],\n",
    "                   [5, 35]],\n",
    "                  index=[\"Classe Positiva\", \"Classe Negativa\"],\n",
    "                  columns=[\"Predito Positivo\", \"Predito Negativo\"])\n",
    "cm"
   ]
  },
  {
   "cell_type": "code",
   "execution_count": 18,
   "id": "be473dcf-eb05-450f-8039-363a7c3b7976",
   "metadata": {},
   "outputs": [
    {
     "name": "stdout",
     "output_type": "stream",
     "text": [
      "TP: 50 FP: 10 FN: 5 TN: 35\n"
     ]
    }
   ],
   "source": [
    "# Extraindo os valores\n",
    "TP = cm.iloc[0, 0]\n",
    "FP = cm.iloc[0, 1]\n",
    "FN = cm.iloc[1, 0]\n",
    "TN = cm.iloc[1, 1]\n",
    "\n",
    "print(\"TP:\", TP, \"FP:\", FP, \"FN:\", FN, \"TN:\", TN)"
   ]
  },
  {
   "cell_type": "code",
   "execution_count": 76,
   "id": "633d1e39-c86b-4131-83e7-5d43c45fde3b",
   "metadata": {},
   "outputs": [
    {
     "name": "stdout",
     "output_type": "stream",
     "text": [
      "Accuracy: 85.00%\n"
     ]
    }
   ],
   "source": [
    "# Cálculo da Accuracy\n",
    "accuracy = (TP + TN) / (TP + TN + FP + FN)\n",
    "print(f\"Accuracy: {accuracy * 100:.2f}%\")"
   ]
  },
  {
   "cell_type": "markdown",
   "id": "cccad19d-a28e-4c0a-a4ed-1872d0871221",
   "metadata": {},
   "source": [
    "### Desvantagens\n",
    "* Não é confiável em dados desbalanceados. Exemplo: se 95% dos dados pertencem à classe negativa, um modelo que prevê sempre \"Negativo\" terá 95% de acurácia, mas será inútil."
   ]
  },
  {
   "cell_type": "code",
   "execution_count": 20,
   "id": "18ca3155-7226-445c-a2d8-fb4767dd78ad",
   "metadata": {},
   "outputs": [
    {
     "name": "stdout",
     "output_type": "stream",
     "text": [
      "Matriz de Confusão - Cenário Desbalanceado:\n"
     ]
    },
    {
     "data": {
      "text/html": [
       "<div>\n",
       "<style scoped>\n",
       "    .dataframe tbody tr th:only-of-type {\n",
       "        vertical-align: middle;\n",
       "    }\n",
       "\n",
       "    .dataframe tbody tr th {\n",
       "        vertical-align: top;\n",
       "    }\n",
       "\n",
       "    .dataframe thead th {\n",
       "        text-align: right;\n",
       "    }\n",
       "</style>\n",
       "<table border=\"1\" class=\"dataframe\">\n",
       "  <thead>\n",
       "    <tr style=\"text-align: right;\">\n",
       "      <th></th>\n",
       "      <th>Predito Positivo</th>\n",
       "      <th>Predito Negativo</th>\n",
       "    </tr>\n",
       "  </thead>\n",
       "  <tbody>\n",
       "    <tr>\n",
       "      <th>Classe Positiva</th>\n",
       "      <td>5</td>\n",
       "      <td>45</td>\n",
       "    </tr>\n",
       "    <tr>\n",
       "      <th>Classe Negativa</th>\n",
       "      <td>0</td>\n",
       "      <td>50</td>\n",
       "    </tr>\n",
       "  </tbody>\n",
       "</table>\n",
       "</div>"
      ],
      "text/plain": [
       "                 Predito Positivo  Predito Negativo\n",
       "Classe Positiva                 5                45\n",
       "Classe Negativa                 0                50"
      ]
     },
     "execution_count": 20,
     "metadata": {},
     "output_type": "execute_result"
    }
   ],
   "source": [
    "# Matriz de confusão em um cenário desbalanceado\n",
    "cm_ruim = pd.DataFrame([[5, 45],\n",
    "                        [0, 50]],\n",
    "                       index=[\"Classe Positiva\", \"Classe Negativa\"],\n",
    "                       columns=[\"Predito Positivo\", \"Predito Negativo\"])\n",
    "print(\"Matriz de Confusão - Cenário Desbalanceado:\")\n",
    "cm_ruim\n"
   ]
  },
  {
   "cell_type": "code",
   "execution_count": 24,
   "id": "d4aa5df5-c3c1-4679-915e-e20bbb8bf94f",
   "metadata": {},
   "outputs": [
    {
     "name": "stdout",
     "output_type": "stream",
     "text": [
      "TP: 5 FP: 45 FN: 0 TN: 50\n"
     ]
    }
   ],
   "source": [
    "# Extraindo os valores\n",
    "TP_ruim = cm_ruim.iloc[0, 0]\n",
    "FP_ruim = cm_ruim.iloc[0, 1]\n",
    "FN_ruim = cm_ruim.iloc[1, 0]\n",
    "TN_ruim = cm_ruim.iloc[1, 1]\n",
    "\n",
    "print(\"TP:\", TP_ruim, \"FP:\", FP_ruim, \"FN:\", FN_ruim, \"TN:\", TN_ruim)"
   ]
  },
  {
   "cell_type": "code",
   "execution_count": 77,
   "id": "0c783e70-a128-4772-81d5-713d79f5d0df",
   "metadata": {},
   "outputs": [
    {
     "name": "stdout",
     "output_type": "stream",
     "text": [
      "Accuracy (cenário desbalanceado): 55.00%\n"
     ]
    }
   ],
   "source": [
    "accuracy_ruim = (TP_ruim + TN_ruim) / (TP_ruim + TN_ruim + FP_ruim + FN_ruim)\n",
    "print(f\"Accuracy (cenário desbalanceado): {accuracy_ruim * 100:.2f}%\")"
   ]
  },
  {
   "cell_type": "markdown",
   "id": "c654a6eb-755e-4eec-b847-2e71c8cdc709",
   "metadata": {},
   "source": [
    "## Precision (Precisão)"
   ]
  },
  {
   "cell_type": "markdown",
   "id": "379089ee-ca7d-4faf-a74c-61a6f46c1f29",
   "metadata": {},
   "source": [
    "A precisão mede a fração de previsões positivas que realmente pertencem à classe positiva. Ou seja, entre todos os exemplos que o modelo previu como positivos, quantos eram realmente positivos?"
   ]
  },
  {
   "cell_type": "markdown",
   "id": "f9c27924-8284-485f-91c4-c900667bf5c2",
   "metadata": {},
   "source": [
    "$$ Precision = \\frac{TP} {TP + FP} $$"
   ]
  },
  {
   "cell_type": "markdown",
   "id": "0fc90ec7-b5e2-4a1f-8689-792090518ea3",
   "metadata": {},
   "source": [
    "### Vantagens: \n",
    "* **Boa métrica quando os falsos positivos são mais problemáticos.**\n",
    "    * Exemplo: Diagnóstico de câncer. Se um teste classifica uma pessoa saudável como doente (FP), isso pode levar a exames desnecessários."
   ]
  },
  {
   "cell_type": "code",
   "execution_count": 78,
   "id": "11cfa0b2-30c4-4086-be11-74ef166ea9a0",
   "metadata": {},
   "outputs": [
    {
     "name": "stdout",
     "output_type": "stream",
     "text": [
      "Precisão: 83.33%\n"
     ]
    }
   ],
   "source": [
    "precision = (TP / (TP + FP))\n",
    "print(f\"Precisão: {precision * 100:.2f}%\")"
   ]
  },
  {
   "cell_type": "markdown",
   "id": "3e33d4a9-7c1b-44a8-ae87-86886894faa1",
   "metadata": {},
   "source": [
    "### Desvantagem:\n",
    "* Pode ignorar os **falsos negativos**, ou seja, pode falhar em capturar **todas** as ocorrências positivas."
   ]
  },
  {
   "cell_type": "code",
   "execution_count": 79,
   "id": "76554100-21af-4593-9b38-c909da5d0cdb",
   "metadata": {},
   "outputs": [
    {
     "name": "stdout",
     "output_type": "stream",
     "text": [
      "Precisão (classes desbalanceadas: 10.00%\n"
     ]
    }
   ],
   "source": [
    "precision_ruim = (TP_ruim / (TP_ruim + FP_ruim))\n",
    "print(f\"Precisão (classes desbalanceadas: {precision_ruim * 100:.2f}%\")"
   ]
  },
  {
   "cell_type": "markdown",
   "id": "ae3029d6-ea03-408d-a542-8df6f2760585",
   "metadata": {},
   "source": [
    "## Recall"
   ]
  },
  {
   "cell_type": "markdown",
   "id": "30a80513-28dc-4f9b-9b61-cefaa29ae020",
   "metadata": {},
   "source": [
    "A **revocação** mede a fração de exemplos positivos corretamente identificados pelo modelo. Ou seja, **entre todos os exemplos que realmente são positivos, quantos o modelo conseguiu encontrar?**"
   ]
  },
  {
   "cell_type": "markdown",
   "id": "a34ea8f5-bb61-4665-b2d3-e6efef2f1cd8",
   "metadata": {},
   "source": [
    "$$ Recall = \\frac{TP} {TP + FN} $$"
   ]
  },
  {
   "cell_type": "code",
   "execution_count": 81,
   "id": "6cc7685a-a4cf-4a1c-bc89-9c0a626ac243",
   "metadata": {},
   "outputs": [
    {
     "name": "stdout",
     "output_type": "stream",
     "text": [
      "Recall (sensibilidade): 90.91%\n"
     ]
    }
   ],
   "source": [
    "recall = TP / (TP + FN)\n",
    "print(f\"Recall (sensibilidade): {recall * 100:.2f}%\")"
   ]
  },
  {
   "cell_type": "markdown",
   "id": "d22fde76-1b17-407c-b615-40d2803fda91",
   "metadata": {},
   "source": [
    "### Vantagens:\n",
    "* Útil quando os **falsos negativos são mais problemáticos**.\n",
    "    * Exemplo: Um exame de câncer deve detectar todos os casos reais de câncer (FN baixos), mesmo que gere alguns falsos positivos."
   ]
  },
  {
   "cell_type": "markdown",
   "id": "ea5b79d0-e468-4f14-8232-e232da0651ef",
   "metadata": {},
   "source": [
    "### Desvantagem:\n",
    "* Um modelo pode ter **recall alto** apenas prevendo **tudo como positivo**, mas isso não significa que seja preciso."
   ]
  },
  {
   "cell_type": "code",
   "execution_count": 82,
   "id": "ab67baa3-fa49-4333-b210-0b455bcbbf23",
   "metadata": {},
   "outputs": [
    {
     "name": "stdout",
     "output_type": "stream",
     "text": [
      "Recall (sensibilidade): 100.00\n"
     ]
    }
   ],
   "source": [
    "recall_ruim = TP_ruim / (TP_ruim + FN_ruim)\n",
    "print(f\"Recall (sensibilidade): {recall_ruim * 100:.2f}\")"
   ]
  },
  {
   "cell_type": "markdown",
   "id": "3d3a6cc7-4072-492e-951e-02735853b379",
   "metadata": {},
   "source": [
    "## F1-score (Sensibilidade)"
   ]
  },
  {
   "cell_type": "markdown",
   "id": "a0988eeb-92f5-4a2f-8564-28cf69d72499",
   "metadata": {},
   "source": [
    "O **F1-score** é a **média harmônica** entre precisão e recall. Ele é útil quando há um **desequilíbrio entre as classes** e queremos um **compromisso entre precisão e recall**."
   ]
  },
  {
   "cell_type": "markdown",
   "id": "04a6e956-79d9-4330-9b7f-791441b644c0",
   "metadata": {},
   "source": [
    "$$ \\textit{F1-score} = 2 \\times \\frac{Precision \\times Recall} {Precision + Recall} $$"
   ]
  },
  {
   "cell_type": "markdown",
   "id": "eb478014-0c43-4b92-8d0e-ef8f8f7e9432",
   "metadata": {},
   "source": [
    "### Vantagens:\n",
    "* Indicado para dados desbalanceados.\n",
    "* Equilibra precisão e recall.\n"
   ]
  },
  {
   "cell_type": "code",
   "execution_count": 83,
   "id": "aae974f3-c33f-46a4-8847-bc78944fd233",
   "metadata": {},
   "outputs": [
    {
     "name": "stdout",
     "output_type": "stream",
     "text": [
      "F1-score: 86.96%\n"
     ]
    }
   ],
   "source": [
    "f1_score = 2 * (precision * recall) / (precision + recall)\n",
    "print(f\"F1-score: {f1_score * 100:.2f}%\")"
   ]
  },
  {
   "cell_type": "markdown",
   "id": "91dc6655-40a1-45bf-9c68-a102da42c571",
   "metadata": {},
   "source": [
    "### Desvantagem:\n",
    "* Pode ser difícil de interpretar diretamente."
   ]
  },
  {
   "cell_type": "code",
   "execution_count": 84,
   "id": "b2843149-7514-4ca3-aed3-6b142ac995cc",
   "metadata": {},
   "outputs": [
    {
     "name": "stdout",
     "output_type": "stream",
     "text": [
      "F1-score: 18.18%\n"
     ]
    }
   ],
   "source": [
    "f1_score_ruim = 2 * (precision_ruim * recall_ruim) / (precision_ruim + recall_ruim)\n",
    "print(f\"F1-score: {f1_score_ruim * 100:.2f}%\")"
   ]
  },
  {
   "cell_type": "markdown",
   "id": "46d06771-6b74-4221-b114-c4162b82a3b5",
   "metadata": {},
   "source": [
    "## Especificidade"
   ]
  },
  {
   "cell_type": "markdown",
   "id": "d1f47408-397c-4a8f-b870-75b942c63639",
   "metadata": {},
   "source": [
    "A **especificidade** mede a capacidade do modelo de prever corretamente os exemplos negativos. Ou seja, entre todos os exemplos que realmente pertencem à classe negativa, quantos foram corretamente identificados como negativos?"
   ]
  },
  {
   "cell_type": "markdown",
   "id": "b30af345-4ac8-438d-b999-a90571399b2d",
   "metadata": {},
   "source": [
    "$$ \\text{Specificity} = \\frac{TN} {TN + FP} $$"
   ]
  },
  {
   "cell_type": "code",
   "execution_count": 85,
   "id": "53d41b0f-e6ee-4fd9-abb0-73f85595f4bd",
   "metadata": {},
   "outputs": [
    {
     "name": "stdout",
     "output_type": "stream",
     "text": [
      "Especificidade: 77.78% \n"
     ]
    }
   ],
   "source": [
    "specificity = TN / (TN + FP)\n",
    "print(f'Especificidade: {specificity * 100:.2f}% ')"
   ]
  },
  {
   "cell_type": "markdown",
   "id": "1ac782b7-3d5b-4174-96db-9ffcd5eb3e46",
   "metadata": {},
   "source": [
    "# Explicação das figuras Iris"
   ]
  },
  {
   "cell_type": "code",
   "execution_count": null,
   "id": "a8022de6-b683-4929-8e2f-68307a8ea838",
   "metadata": {},
   "outputs": [],
   "source": []
  }
 ],
 "metadata": {
  "kernelspec": {
   "display_name": "Python 3 (ipykernel)",
   "language": "python",
   "name": "python3"
  },
  "language_info": {
   "codemirror_mode": {
    "name": "ipython",
    "version": 3
   },
   "file_extension": ".py",
   "mimetype": "text/x-python",
   "name": "python",
   "nbconvert_exporter": "python",
   "pygments_lexer": "ipython3",
   "version": "3.12.8"
  }
 },
 "nbformat": 4,
 "nbformat_minor": 5
}
