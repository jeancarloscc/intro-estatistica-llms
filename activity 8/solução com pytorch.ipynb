{
 "cells": [
  {
   "cell_type": "code",
   "execution_count": 1,
   "id": "104d1fed-360d-458c-8039-e344735d0652",
   "metadata": {},
   "outputs": [],
   "source": [
    "import torch\n",
    "import torch.nn as nn\n",
    "import torch.optim as optim"
   ]
  },
  {
   "cell_type": "code",
   "execution_count": 5,
   "id": "b6e0a28f-98c1-44ee-b822-03617a7dc34d",
   "metadata": {},
   "outputs": [],
   "source": [
    "# Definição da rede neural baseada na estrutura da imagem\n",
    "class SimpleNN(nn.Module):\n",
    "    def __init__(self):\n",
    "        super(SimpleNN, self).__init__()\n",
    "        \n",
    "        # Definição dos pesos fixos da imagem\n",
    "        self.w1 = torch.tensor(3.34, requires_grad=False)\n",
    "        self.w2 = torch.tensor(-3.53, requires_grad=False)\n",
    "        self.b1 = torch.tensor(-1.43, requires_grad=False)\n",
    "        self.b2 = torch.tensor(0.57, requires_grad=False)\n",
    "        self.w3 = torch.tensor(-1.22, requires_grad=False)\n",
    "        self.w4 = torch.tensor(-2.30, requires_grad=False)\n",
    "        \n",
    "        # Bias desconhecido que queremos encontrar\n",
    "        self.b3 = torch.tensor(0.0, requires_grad=True) \n",
    "    \n",
    "    def forward(self, x):\n",
    "        # Cálculo da primeira camada oculta\n",
    "        h1 = torch.relu(self.w1 * x + self.b1)\n",
    "        h2 = torch.relu(self.w2 * x + self.b2)\n",
    "        \n",
    "        # Cálculo da saída\n",
    "        output = (self.w3 * h1) + (self.w4 * h2) + self.b3\n",
    "        return output"
   ]
  },
  {
   "cell_type": "code",
   "execution_count": 6,
   "id": "2eb0f992-ddd8-408e-a6f2-10d21f9c3d22",
   "metadata": {},
   "outputs": [],
   "source": [
    "# Criando o modelo\n",
    "model = SimpleNN()"
   ]
  },
  {
   "cell_type": "code",
   "execution_count": 7,
   "id": "af6d2eaf-3ecf-4a8a-96a0-2df57e5ab569",
   "metadata": {},
   "outputs": [
    {
     "ename": "NameError",
     "evalue": "name 'output' is not defined",
     "output_type": "error",
     "traceback": [
      "\u001b[0;31m---------------------------------------------------------------------------\u001b[0m",
      "\u001b[0;31mNameError\u001b[0m                                 Traceback (most recent call last)",
      "Cell \u001b[0;32mIn[7], line 2\u001b[0m\n\u001b[1;32m      1\u001b[0m \u001b[38;5;66;03m# Definição do otimizador para aprender b3\u001b[39;00m\n\u001b[0;32m----> 2\u001b[0m loss \u001b[38;5;241m=\u001b[39m (\u001b[43moutput\u001b[49m \u001b[38;5;241m-\u001b[39m expected_output) \u001b[38;5;241m*\u001b[39m\u001b[38;5;241m*\u001b[39m \u001b[38;5;241m2\u001b[39m  \u001b[38;5;66;03m# Erro quad\u001b[39;00m\n\u001b[1;32m      3\u001b[0m optimizer \u001b[38;5;241m=\u001b[39m optim\u001b[38;5;241m.\u001b[39mSGD([model\u001b[38;5;241m.\u001b[39mb3], lr\u001b[38;5;241m=\u001b[39m\u001b[38;5;241m0.01\u001b[39m)\n\u001b[1;32m      5\u001b[0m \u001b[38;5;66;03m# Supomos um valor de saída esperado para treinar o bias b3\u001b[39;00m\n",
      "\u001b[0;31mNameError\u001b[0m: name 'output' is not defined"
     ]
    }
   ],
   "source": [
    "# Definição do otimizador para aprender b3\n",
    "loss = (output - expected_output) ** 2  # Erro quad\n",
    "optimizer = optim.SGD([model.b3], lr=0.01)\n",
    "\n",
    "# Supomos um valor de saída esperado para treinar o bias b3\n",
    "expected_output = torch.tensor(1.0)  # Ajuste conforme necessário\n",
    "\n",
    "# Loop de treinamento para encontrar b3\n",
    "for epoch in range(1000):\n",
    "    optimizer.zero_grad()\n",
    "    output = model(torch.tensor(1.0))  # Entrada arbitrária\n",
    "    loss.backward()\n",
    "    optimizer.step()\n",
    "    \n",
    "    if epoch % 100 == 0:\n",
    "        print(f'Epoch {epoch}: Loss = {loss.item()}, b3 = {model.b3.item()}')\n",
    "\n",
    "# Valor final de b3\n",
    "print(f'Valor final de b3: {model.b3.item()}')\n"
   ]
  },
  {
   "cell_type": "code",
   "execution_count": null,
   "id": "1b201172-342d-4f07-aada-12f96f9b63b9",
   "metadata": {},
   "outputs": [],
   "source": []
  }
 ],
 "metadata": {
  "kernelspec": {
   "display_name": "Python 3 (ipykernel)",
   "language": "python",
   "name": "python3"
  },
  "language_info": {
   "codemirror_mode": {
    "name": "ipython",
    "version": 3
   },
   "file_extension": ".py",
   "mimetype": "text/x-python",
   "name": "python",
   "nbconvert_exporter": "python",
   "pygments_lexer": "ipython3",
   "version": "3.12.8"
  }
 },
 "nbformat": 4,
 "nbformat_minor": 5
}
