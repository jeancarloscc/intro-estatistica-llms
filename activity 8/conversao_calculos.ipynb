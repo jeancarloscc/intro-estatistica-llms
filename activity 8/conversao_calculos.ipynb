{
 "cells": [
  {
   "cell_type": "code",
   "execution_count": 21,
   "id": "ae7b0fb1-7706-4f87-9354-c7b20669b621",
   "metadata": {},
   "outputs": [],
   "source": [
    "import numpy as np\n",
    "import matplotlib.pyplot as plt\n",
    "from IPython.display import display, Markdown"
   ]
  },
  {
   "cell_type": "markdown",
   "id": "1a2f9a7d-886d-4b9c-858d-f4c140e0c74b",
   "metadata": {},
   "source": [
    "# Introdução\n",
    "# Backpropagation: Conceitos Fundamentais\n",
    "\n",
    "Nesta apresentação interativa, exploraremos os princípios do algoritmo de retropropagação\n",
    "(backpropagation) para treinamento de redes neurais.\n",
    "\n",
    "## Objetivos:\n",
    "1. Explicar os conceitos matemáticos por trás do algoritmo.\n",
    "2. Demonstrar passo a passo como os gradientes são calculados.\n",
    "3. Ilustrar a importância da retropropagação no aprendizado profundo.\n"
   ]
  },
  {
   "cell_type": "code",
   "execution_count": 22,
   "id": "da0282ca-090c-4c67-9064-4c10b56405bb",
   "metadata": {},
   "outputs": [],
   "source": [
    "# Exemplo de Função de Ativação (Sigmóide)\n",
    "def sigmoid(x):\n",
    "    return 1 / (1 + np.exp(-x))\n",
    "\n",
    "def sigmoid_derivative(x):\n",
    "    return sigmoid(x) * (1 - sigmoid(x))"
   ]
  },
  {
   "cell_type": "code",
   "execution_count": 23,
   "id": "b43cab33-eabb-4847-8a32-38e4680b0d45",
   "metadata": {},
   "outputs": [],
   "source": [
    "x = np.linspace(-10, 10, 100)\n",
    "y = sigmoid(x)"
   ]
  },
  {
   "cell_type": "markdown",
   "id": "9c2e8a79-04b0-4f51-896a-325f20ca3c64",
   "metadata": {},
   "source": [
    "## Função de Ativação Sigmóide\n",
    "A função sigmóide é frequentemente utilizada em redes neurais para introduzir não linearidade.\n",
    "A equação é dada por:\n",
    "\n",
    "$$ \\sigma(x) = \\frac{1}{1 + e^{-x}} $$\n",
    "\n",
    "E sua derivada:\n",
    "\n",
    "$$ \\sigma'(x) = \\sigma(x) (1 - \\sigma(x)) $$\n",
    "\n",
    "Abaixo temos a visualização da função sigmóide."
   ]
  },
  {
   "cell_type": "code",
   "execution_count": 24,
   "id": "96f20192-116c-4b41-b0af-2ec6328b2f7c",
   "metadata": {},
   "outputs": [
    {
     "data": {
      "image/png": "[encoded data removed]",
      "text/plain": [
       "<Figure size 600x400 with 1 Axes>"
      ]
     },
     "metadata": {},
     "output_type": "display_data"
    }
   ],
   "source": [
    "plt.figure(figsize=(6,4))\n",
    "plt.plot(x, y, label='Sigmoid')\n",
    "plt.xlabel('x')\n",
    "plt.ylabel('σ(x)')\n",
    "plt.title('Função Sigmóide')\n",
    "plt.legend()\n",
    "plt.grid()\n",
    "plt.show()"
   ]
  },
  {
   "cell_type": "code",
   "execution_count": 25,
   "id": "22674eb7-05fe-49d4-9e18-673c958d7395",
   "metadata": {},
   "outputs": [],
   "source": [
    "# Propagação para Frente (Forward Pass)\n",
    "def forward_pass(x, w, b):\n",
    "    return sigmoid(np.dot(x, w) + b)"
   ]
  },
  {
   "cell_type": "markdown",
   "id": "4d012a54-bb85-4337-9851-c9fc94f98031",
   "metadata": {},
   "source": [
    "## Propagação para Frente (Forward Pass)\n",
    "A propagação para frente calcula a saída de um neurônio aplicando pesos e viés:\n",
    "\n",
    "$$ y_{pred} = \\sigma(Wx + b) $$\n",
    "\n",
    "Isso nos permite obter a predição da rede."
   ]
  },
  {
   "cell_type": "markdown",
   "id": "4d5a828b-a569-4629-97df-25f7c90efc58",
   "metadata": {},
   "source": [
    "## Soma dos Quadrados dos Resíduos (SSR)\n",
    "A função de erro utilizada para medir a discrepância entre os valores preditos e os valores reais\n",
    "é a soma dos quadrados dos resíduos:\n",
    "\n",
    "$$ SSR = \\sum (y_{real} - y_{pred})^2 $$\n",
    "\n",
    "Esse erro será minimizado usando o **Gradient Descent**.\n"
   ]
  },
  {
   "cell_type": "code",
   "execution_count": 26,
   "id": "3f06b415-dcae-4830-8154-3ae632564457",
   "metadata": {},
   "outputs": [],
   "source": [
    "# Gradiente da SSR em relação aos pesos e viés\n",
    "def compute_gradients(x, y_real, y_pred):\n",
    "    error = y_real - y_pred\n",
    "    dW = -2 * np.dot(x.T, error * sigmoid_derivative(y_pred))\n",
    "    dB = -2 * np.sum(error * sigmoid_derivative(y_pred))\n",
    "    return dW, dB"
   ]
  },
  {
   "cell_type": "markdown",
   "id": "f4ebf311-1c54-400a-891a-32ff388ffdfd",
   "metadata": {},
   "source": [
    "## Cálculo dos Gradientes (Backpropagation)\n",
    "O cálculo dos gradientes permite atualizar os pesos e viés de maneira eficiente:\n",
    "\n",
    "$$ \\frac{d}{dW} SSR $$ e $$ \\frac{d}{dB} SSR $$\n",
    "\n",
    "Esse gradiente será usado para ajustar os parâmetros na descida do gradiente"
   ]
  },
  {
   "cell_type": "code",
   "execution_count": 27,
   "id": "bbd4b232-5f79-473c-bcd3-43967510ca5c",
   "metadata": {},
   "outputs": [],
   "source": [
    "# Descida do Gradiente\n",
    "def gradient_descent(x, y_real, w, b, learning_rate=0.01, epochs=100):\n",
    "    for _ in range(epochs):\n",
    "        y_pred = forward_pass(x, w, b)\n",
    "        dW, dB = compute_gradients(x, y_real, y_pred)\n",
    "        w -= learning_rate * dW\n",
    "        b -= learning_rate * dB\n",
    "    return w, b"
   ]
  },
  {
   "cell_type": "markdown",
   "id": "5c6a7165-cc91-4516-acd9-f9c093479b82",
   "metadata": {},
   "source": [
    "## Gradient Descent\n",
    "O método de descida do gradiente é utilizado para encontrar os valores ótimos dos pesos e vieses.\n",
    "A atualização ocorre iterativamente segundo a regra:\n",
    "\n",
    "$$ W := W - \\eta \\cdot \\frac{d}{dW} SSR $$\n",
    "$$ B := B - \\eta \\cdot \\frac{d}{dB} SSR $$\n",
    "\n",
    "onde $\\eta$ é a **taxa de aprendizado**."
   ]
  },
  {
   "cell_type": "markdown",
   "id": "7df62060-22cb-43a3-bb84-7cd8a2727933",
   "metadata": {},
   "source": [
    "## Exemplo Prático: Ajustando os Pesos de uma Rede Neural Simples\n",
    "A seguir, treinaremos um neurônio simples para ajustar pesos e viés."
   ]
  },
  {
   "cell_type": "code",
   "execution_count": 28,
   "id": "dc49d53b-667f-44a0-83b8-237da065e0be",
   "metadata": {},
   "outputs": [],
   "source": [
    "# Gerando dados fictícios\n",
    "np.random.seed(42)\n",
    "x_data = np.random.rand(100, 1)\n",
    "y_data = 2 * x_data + 1 + 0.1 * np.random.randn(100, 1)  # Relação linear com ruído\n",
    "\n",
    "# Inicialização de pesos e viés\n",
    "w_init = np.random.randn(1, 1)\n",
    "b_init = np.random.randn(1)\n",
    "\n",
    "# Treinamento\n",
    "w_trained, b_trained = gradient_descent(x_data, y_data, w_init, b_init)"
   ]
  },
  {
   "cell_type": "markdown",
   "id": "377c2490-0619-4b8b-a87f-6fa15eb595c2",
   "metadata": {},
   "source": [
    "**Pesos finais:** {w_trained.flatten()[0]:.4f}\n",
    "\n",
    "**Viés final:** {b_trained.flatten()[0]:.4f}"
   ]
  },
  {
   "cell_type": "code",
   "execution_count": 29,
   "id": "82495b13-7660-46f3-859c-21ed657b217d",
   "metadata": {},
   "outputs": [
    {
     "name": "stdout",
     "output_type": "stream",
     "text": [
      "Pesos finais: 24.2612\n",
      "Viés final: 38.6982\n"
     ]
    }
   ],
   "source": [
    "print(f'Pesos finais: {w_trained.flatten()[0]:.4f}')\n",
    "print(f'Viés final: {b_trained.flatten()[0]:.4f}')"
   ]
  },
  {
   "cell_type": "code",
   "execution_count": 30,
   "id": "91ac684f-5713-40bc-8b90-6711be509914",
   "metadata": {},
   "outputs": [
    {
     "data": {
      "image/png": "[encoded data removed]",
      "text/plain": [
       "<Figure size 640x480 with 1 Axes>"
      ]
     },
     "metadata": {},
     "output_type": "display_data"
    }
   ],
   "source": [
    "plt.scatter(x_data, y_data, label=\"Dados reais\")\n",
    "plt.plot(x_data, forward_pass(x_data, w_trained, b_trained), color='red', label=\"Predição\")\n",
    "plt.legend()\n",
    "plt.show()"
   ]
  }
 ],
 "metadata": {
  "kernelspec": {
   "display_name": "Python 3 (ipykernel)",
   "language": "python",
   "name": "python3"
  },
  "language_info": {
   "codemirror_mode": {
    "name": "ipython",
    "version": 3
   },
   "file_extension": ".py",
   "mimetype": "text/x-python",
   "name": "python",
   "nbconvert_exporter": "python",
   "pygments_lexer": "ipython3",
   "version": "3.12.8"
  }
 },
 "nbformat": 4,
 "nbformat_minor": 5
}
