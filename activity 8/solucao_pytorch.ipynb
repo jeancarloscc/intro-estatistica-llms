{
 "cells": [
  {
   "cell_type": "code",
   "execution_count": 59,
   "id": "c04d8a01-c24f-427f-90a0-9577ef73f6ed",
   "metadata": {},
   "outputs": [],
   "source": [
    "import torch\n",
    "import torch.nn as nn\n",
    "import torch.optim as optim"
   ]
  },
  {
   "cell_type": "code",
   "execution_count": 60,
   "id": "15e7488c-7cfd-4d43-83e5-0ffc4964027c",
   "metadata": {},
   "outputs": [],
   "source": [
    "# Definição da rede neural baseada na estrutura da imagem\n",
    "class SimpleNN(nn.Module):\n",
    "    def __init__(self):\n",
    "        super(SimpleNN, self).__init__()\n",
    "        \n",
    "        # Definição dos pesos fixos da imagem\n",
    "        self.w1 = torch.tensor(3.34, requires_grad=False)\n",
    "        self.w2 = torch.tensor(-3.53, requires_grad=False)\n",
    "        self.b1 = torch.tensor(-1.43, requires_grad=False)\n",
    "        self.b2 = torch.tensor(0.57, requires_grad=False)\n",
    "        self.w3 = torch.tensor(-1.22, requires_grad=False)\n",
    "        self.w4 = torch.tensor(-2.30, requires_grad=False)\n",
    "        \n",
    "        # Bias desconhecido que queremos encontrar\n",
    "        self.b3 = nn.Parameter(torch.tensor(0.0)) \n",
    "    \n",
    "    def forward(self, x):\n",
    "        # Cálculo da primeira camada oculta\n",
    "        h1 = torch.relu(self.w1 * x + self.b1)\n",
    "        h2 = torch.relu(self.w2 * x + self.b2)\n",
    "        \n",
    "        # Cálculo da saída\n",
    "        output = (self.w3 * h1) + (self.w4 * h2) + self.b3\n",
    "        return output"
   ]
  },
  {
   "cell_type": "code",
   "execution_count": 61,
   "id": "c985d55b-73f1-4b08-b6ac-02c7a92ca0b6",
   "metadata": {},
   "outputs": [],
   "source": [
    "# Criando o modelo\n",
    "model = SimpleNN()"
   ]
  },
  {
   "cell_type": "code",
   "execution_count": 62,
   "id": "11332d9a-37e7-4284-9a64-2da243fc367f",
   "metadata": {},
   "outputs": [],
   "source": [
    "# Definição do otimizador para aprender b3\n",
    "optimizer = optim.SGD([model.b3], lr=0.01)"
   ]
  },
  {
   "cell_type": "code",
   "execution_count": 63,
   "id": "142cb08b-45e5-4ab1-aa7d-8d47a5308713",
   "metadata": {},
   "outputs": [],
   "source": [
    "# Supomos um valor de saída esperado para treinar o bias b3\n",
    "expected_output = torch.tensor(1.0)  # Ajuste conforme necessário"
   ]
  },
  {
   "cell_type": "code",
   "execution_count": 64,
   "id": "8271a604-6052-48da-9344-f3d186c749d2",
   "metadata": {},
   "outputs": [
    {
     "name": "stdout",
     "output_type": "stream",
     "text": [
      "Epoch 0: Loss = 11.090231895446777, b3 = 0.06660399585962296\n",
      "Epoch 100: Loss = 0.19505465030670166, b3 = 2.897382974624634\n",
      "Epoch 200: Loss = 0.00343062961474061, b3 = 3.2727997303009033\n",
      "Epoch 300: Loss = 6.0340513300616294e-05, b3 = 3.322587490081787\n",
      "Epoch 400: Loss = 1.0618171017995337e-06, b3 = 3.3291900157928467\n",
      "Epoch 500: Loss = 1.872854227258358e-08, b3 = 3.3300657272338867\n",
      "Epoch 600: Loss = 3.197442310920451e-10, b3 = 3.3301823139190674\n",
      "Epoch 700: Loss = 3.552713678800501e-11, b3 = 3.3301939964294434\n",
      "Epoch 800: Loss = 3.552713678800501e-11, b3 = 3.3301939964294434\n",
      "Epoch 900: Loss = 3.552713678800501e-11, b3 = 3.3301939964294434\n"
     ]
    }
   ],
   "source": [
    "# Loop de treinamento para encontrar b3\n",
    "for epoch in range(1000):\n",
    "    optimizer.zero_grad()\n",
    "    output = model(torch.tensor(1.0))  # Entrada arbitrária\n",
    "    loss = (output - expected_output) ** 2  # Erro quadrático\n",
    "    loss.backward()\n",
    "    optimizer.step()\n",
    "    \n",
    "    if epoch % 100 == 0:\n",
    "        print(f'Epoch {epoch}: Loss = {loss.item()}, b3 = {model.b3.item()}')"
   ]
  },
  {
   "cell_type": "code",
   "execution_count": 67,
   "id": "11ceb096-c833-46f9-9bf9-ca406b8847af",
   "metadata": {},
   "outputs": [
    {
     "name": "stdout",
     "output_type": "stream",
     "text": [
      "Valor final de b3: 3.33\n"
     ]
    }
   ],
   "source": [
    "# Valor final de b3\n",
    "print(f'Valor final de b3: {model.b3.item():.2f}')"
   ]
  },
  {
   "cell_type": "code",
   "execution_count": 66,
   "id": "fd9bdf8a-7fb1-458b-8abf-ce205d2f0c85",
   "metadata": {},
   "outputs": [
    {
     "name": "stdout",
     "output_type": "stream",
     "text": [
      "Resultado do output: 0.9999940395355225\n"
     ]
    }
   ],
   "source": [
    "print(f'Resultado do output: {output}')"
   ]
  }
 ],
 "metadata": {
  "kernelspec": {
   "display_name": "Python 3 (ipykernel)",
   "language": "python",
   "name": "python3"
  },
  "language_info": {
   "codemirror_mode": {
    "name": "ipython",
    "version": 3
   },
   "file_extension": ".py",
   "mimetype": "text/x-python",
   "name": "python",
   "nbconvert_exporter": "python",
   "pygments_lexer": "ipython3",
   "version": "3.12.8"
  }
 },
 "nbformat": 4,
 "nbformat_minor": 5
}
