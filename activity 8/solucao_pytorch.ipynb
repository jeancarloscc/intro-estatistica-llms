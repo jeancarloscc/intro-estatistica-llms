{
 "cells": [
  {
   "cell_type": "code",
   "execution_count": 38,
   "id": "c04d8a01-c24f-427f-90a0-9577ef73f6ed",
   "metadata": {},
   "outputs": [],
   "source": [
    "import torch\n",
    "import torch.nn as nn\n",
    "import torch.optim as optim"
   ]
  },
  {
   "cell_type": "code",
   "execution_count": 39,
   "id": "15e7488c-7cfd-4d43-83e5-0ffc4964027c",
   "metadata": {},
   "outputs": [],
   "source": [
    "# Definição da rede neural baseada na estrutura da imagem\n",
    "class SimpleNN(nn.Module):\n",
    "    def __init__(self):\n",
    "        super(SimpleNN, self).__init__()\n",
    "        \n",
    "        # Definição dos pesos fixos da imagem\n",
    "        self.w1 = torch.tensor(3.34, requires_grad=False)\n",
    "        self.w2 = torch.tensor(-3.53, requires_grad=False)\n",
    "        self.b1 = torch.tensor(-1.43, requires_grad=False)\n",
    "        self.b2 = torch.tensor(0.57, requires_grad=False)\n",
    "        self.w3 = torch.tensor(-1.22, requires_grad=False)\n",
    "        self.w4 = torch.tensor(-2.30, requires_grad=False)\n",
    "        \n",
    "        # Bias desconhecido que queremos encontrar\n",
    "        self.b3 = nn.Parameter(torch.tensor(0.0)) \n",
    "\n",
    "        # Função de ativição Softplus\n",
    "        self.softplus = nn.Softplus()\n",
    "    \n",
    "    def forward(self, x):\n",
    "        # Cálculo da primeira camada oculta\n",
    "        h1 = self.softplus(self.w1 * x + self.b1)\n",
    "        h2 = self.softplus(self.w2 * x + self.b2)\n",
    "        \n",
    "        # Cálculo da saída\n",
    "        output = (self.w3 * h1) + (self.w4 * h2) + self.b3\n",
    "        return self.softplus(output) # Aplicação da função Softplus"
   ]
  },
  {
   "cell_type": "code",
   "execution_count": 40,
   "id": "c985d55b-73f1-4b08-b6ac-02c7a92ca0b6",
   "metadata": {},
   "outputs": [],
   "source": [
    "# Criando o modelo\n",
    "model = SimpleNN()"
   ]
  },
  {
   "cell_type": "code",
   "execution_count": 41,
   "id": "11332d9a-37e7-4284-9a64-2da243fc367f",
   "metadata": {},
   "outputs": [],
   "source": [
    "# Definição do otimizador para aprender b3\n",
    "optimizer = optim.SGD([model.b3], lr=0.01)"
   ]
  },
  {
   "cell_type": "code",
   "execution_count": 42,
   "id": "142cb08b-45e5-4ab1-aa7d-8d47a5308713",
   "metadata": {},
   "outputs": [],
   "source": [
    "# Supomos um valor de saída esperado para treinar o bias b3\n",
    "expected_output = torch.tensor(1.0)  # Ajuste conforme necessário"
   ]
  },
  {
   "cell_type": "code",
   "execution_count": 43,
   "id": "8271a604-6052-48da-9344-f3d186c749d2",
   "metadata": {},
   "outputs": [
    {
     "name": "stdout",
     "output_type": "stream",
     "text": [
      "Epoch 0: Loss = 0.8637403249740601, b3 = 0.0012674379395321012\n",
      "Epoch 100: Loss = 0.8457427620887756, b3 = 0.1354643553495407\n",
      "Epoch 200: Loss = 0.822892427444458, b3 = 0.28667160868644714\n",
      "Epoch 300: Loss = 0.7931878566741943, b3 = 0.45906397700309753\n",
      "Epoch 400: Loss = 0.7535533905029297, b3 = 0.6581849455833435\n",
      "Epoch 500: Loss = 0.6992418169975281, b3 = 0.8912599086761475\n",
      "Epoch 600: Loss = 0.623217761516571, b3 = 1.1670018434524536\n",
      "Epoch 700: Loss = 0.5167849659919739, b3 = 1.493280053138733\n",
      "Epoch 800: Loss = 0.376010537147522, b3 = 1.8685917854309082\n",
      "Epoch 900: Loss = 0.2195102572441101, b3 = 2.264127016067505\n"
     ]
    }
   ],
   "source": [
    "# Loop de treinamento para encontrar b3\n",
    "for epoch in range(1000):\n",
    "    optimizer.zero_grad()\n",
    "    output = model(torch.tensor(1.0))  # Entrada arbitrária\n",
    "    loss = (output - expected_output) ** 2  # Erro quadrático\n",
    "    loss.backward()\n",
    "    optimizer.step()\n",
    "    \n",
    "    if epoch % 100 == 0:\n",
    "        print(f'Epoch {epoch}: Loss = {loss.item()}, b3 = {model.b3.item()}')"
   ]
  },
  {
   "cell_type": "code",
   "execution_count": 44,
   "id": "11ceb096-c833-46f9-9bf9-ca406b8847af",
   "metadata": {},
   "outputs": [
    {
     "name": "stdout",
     "output_type": "stream",
     "text": [
      "Valor final de b3: 2.61\n"
     ]
    }
   ],
   "source": [
    "# Valor final de b3\n",
    "print(f'Valor final de b3: {model.b3.item():.2f}')"
   ]
  },
  {
   "cell_type": "code",
   "execution_count": 45,
   "id": "7ebc172b-a42a-4ee1-ba9b-44ac5c8b7f0c",
   "metadata": {},
   "outputs": [],
   "source": [
    "input_value = torch.tensor(1.0)  # Pode ser qualquer valor de entrada\n",
    "output_value = model(input_value)"
   ]
  },
  {
   "cell_type": "code",
   "execution_count": 46,
   "id": "fd9bdf8a-7fb1-458b-8abf-ce205d2f0c85",
   "metadata": {},
   "outputs": [
    {
     "name": "stdout",
     "output_type": "stream",
     "text": [
      "Após o treinamento, para entrada 1.0, a saída da rede é: 0.69\n"
     ]
    }
   ],
   "source": [
    "print(f'Após o treinamento, para entrada {input_value.item()}, a saída da rede é: {output_value.item():.2f}')"
   ]
  },
  {
   "cell_type": "code",
   "execution_count": null,
   "id": "2a89348f-6d8d-4042-8b42-968bdef7b03a",
   "metadata": {},
   "outputs": [],
   "source": []
  }
 ],
 "metadata": {
  "kernelspec": {
   "display_name": "Python 3 (ipykernel)",
   "language": "python",
   "name": "python3"
  },
  "language_info": {
   "codemirror_mode": {
    "name": "ipython",
    "version": 3
   },
   "file_extension": ".py",
   "mimetype": "text/x-python",
   "name": "python",
   "nbconvert_exporter": "python",
   "pygments_lexer": "ipython3",
   "version": "3.12.8"
  }
 },
 "nbformat": 4,
 "nbformat_minor": 5
}
