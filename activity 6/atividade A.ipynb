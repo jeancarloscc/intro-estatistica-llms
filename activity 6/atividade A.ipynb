{
 "cells": [
  {
   "cell_type": "markdown",
   "id": "bcb178f4-14a3-402b-af86-d52a5edea7ba",
   "metadata": {},
   "source": [
    "# Discente: **Jean Carlos de Carvalho Costa**"
   ]
  },
  {
   "cell_type": "code",
   "execution_count": 25,
   "id": "17266080-5ff8-461e-8e49-c97f1cbe67f7",
   "metadata": {},
   "outputs": [],
   "source": [
    "import pandas as pd\n",
    "import seaborn as sns\n",
    "import matplotlib.pyplot as plt"
   ]
  },
  {
   "cell_type": "code",
   "execution_count": 26,
   "id": "577816da-683f-4464-b799-38c99a189040",
   "metadata": {},
   "outputs": [
    {
     "data": {
      "text/html": [
       "<div>\n",
       "<style scoped>\n",
       "    .dataframe tbody tr th:only-of-type {\n",
       "        vertical-align: middle;\n",
       "    }\n",
       "\n",
       "    .dataframe tbody tr th {\n",
       "        vertical-align: top;\n",
       "    }\n",
       "\n",
       "    .dataframe thead th {\n",
       "        text-align: right;\n",
       "    }\n",
       "</style>\n",
       "<table border=\"1\" class=\"dataframe\">\n",
       "  <thead>\n",
       "    <tr style=\"text-align: right;\">\n",
       "      <th></th>\n",
       "      <th>total_email</th>\n",
       "      <th>Categoria</th>\n",
       "      <th>Dear</th>\n",
       "      <th>Friend</th>\n",
       "      <th>Lunch</th>\n",
       "      <th>Money</th>\n",
       "    </tr>\n",
       "  </thead>\n",
       "  <tbody>\n",
       "    <tr>\n",
       "      <th>0</th>\n",
       "      <td>8</td>\n",
       "      <td>normal</td>\n",
       "      <td>8</td>\n",
       "      <td>5</td>\n",
       "      <td>3</td>\n",
       "      <td>1</td>\n",
       "    </tr>\n",
       "    <tr>\n",
       "      <th>1</th>\n",
       "      <td>4</td>\n",
       "      <td>spam</td>\n",
       "      <td>2</td>\n",
       "      <td>1</td>\n",
       "      <td>0</td>\n",
       "      <td>4</td>\n",
       "    </tr>\n",
       "  </tbody>\n",
       "</table>\n",
       "</div>"
      ],
      "text/plain": [
       "   total_email Categoria  Dear  Friend  Lunch  Money\n",
       "0            8    normal     8       5      3      1\n",
       "1            4      spam     2       1      0      4"
      ]
     },
     "execution_count": 26,
     "metadata": {},
     "output_type": "execute_result"
    }
   ],
   "source": [
    "# Dados organizados com base na imagem\n",
    "data = {\n",
    "    \"total_email\": [8, 4],\n",
    "    \"Categoria\": [\"normal\", \"spam\"],  # 'N' para não spam, 'S' para spam\n",
    "    \"Dear\": [8, 2],         # Contagens da palavra \"Dear\"\n",
    "    \"Friend\": [5, 1],       # Contagens da palavra \"Friend\"\n",
    "    \"Lunch\": [3, 0],         # Contagens da palavra \"Lunch\"\n",
    "    \"Money\": [1, 4]          # Contagens da palavra \"Money\"\n",
    "}\n",
    "\n",
    "# Criar o DataFrame\n",
    "df = pd.DataFrame(data)\n",
    "\n",
    "df"
   ]
  },
  {
   "cell_type": "markdown",
   "id": "ba17293e-65c3-4958-8d9a-4d52134c3af7",
   "metadata": {},
   "source": [
    "## Visualização dos números de palavras"
   ]
  },
  {
   "cell_type": "code",
   "execution_count": 27,
   "id": "ed5623bf-0052-4381-87b3-a0358327076f",
   "metadata": {},
   "outputs": [
    {
     "data": {
      "text/html": [
       "<div>\n",
       "<style scoped>\n",
       "    .dataframe tbody tr th:only-of-type {\n",
       "        vertical-align: middle;\n",
       "    }\n",
       "\n",
       "    .dataframe tbody tr th {\n",
       "        vertical-align: top;\n",
       "    }\n",
       "\n",
       "    .dataframe thead th {\n",
       "        text-align: right;\n",
       "    }\n",
       "</style>\n",
       "<table border=\"1\" class=\"dataframe\">\n",
       "  <thead>\n",
       "    <tr style=\"text-align: right;\">\n",
       "      <th>Categoria</th>\n",
       "      <th>normal</th>\n",
       "      <th>spam</th>\n",
       "    </tr>\n",
       "  </thead>\n",
       "  <tbody>\n",
       "    <tr>\n",
       "      <th>total_email</th>\n",
       "      <td>8</td>\n",
       "      <td>4</td>\n",
       "    </tr>\n",
       "    <tr>\n",
       "      <th>Dear</th>\n",
       "      <td>8</td>\n",
       "      <td>2</td>\n",
       "    </tr>\n",
       "    <tr>\n",
       "      <th>Friend</th>\n",
       "      <td>5</td>\n",
       "      <td>1</td>\n",
       "    </tr>\n",
       "    <tr>\n",
       "      <th>Lunch</th>\n",
       "      <td>3</td>\n",
       "      <td>0</td>\n",
       "    </tr>\n",
       "    <tr>\n",
       "      <th>Money</th>\n",
       "      <td>1</td>\n",
       "      <td>4</td>\n",
       "    </tr>\n",
       "  </tbody>\n",
       "</table>\n",
       "</div>"
      ],
      "text/plain": [
       "Categoria    normal  spam\n",
       "total_email       8     4\n",
       "Dear              8     2\n",
       "Friend            5     1\n",
       "Lunch             3     0\n",
       "Money             1     4"
      ]
     },
     "execution_count": 27,
     "metadata": {},
     "output_type": "execute_result"
    }
   ],
   "source": [
    "teste = df.set_index('Categoria')\n",
    "teste = teste.T\n",
    "teste"
   ]
  },
  {
   "cell_type": "code",
   "execution_count": 28,
   "id": "bafe19fc-7fac-4c0b-829f-6d6c1f693eb8",
   "metadata": {},
   "outputs": [],
   "source": [
    "teste = teste.reset_index()"
   ]
  },
  {
   "cell_type": "code",
   "execution_count": 29,
   "id": "5be224a5-a9d2-4483-8a0f-9e580bd59a14",
   "metadata": {},
   "outputs": [
    {
     "data": {
      "text/plain": [
       "<Axes: xlabel='index', ylabel='normal'>"
      ]
     },
     "execution_count": 29,
     "metadata": {},
     "output_type": "execute_result"
    },
    {
     "data": {
      "image/png": "[encoded data removed]",
      "text/plain": [
       "<Figure size 640x480 with 1 Axes>"
      ]
     },
     "metadata": {},
     "output_type": "display_data"
    }
   ],
   "source": [
    "sns.barplot(teste, y='normal', x='index')"
   ]
  },
  {
   "cell_type": "code",
   "execution_count": 30,
   "id": "953e4a26-5764-471a-ad65-d18259e7810b",
   "metadata": {},
   "outputs": [
    {
     "data": {
      "text/plain": [
       "<Axes: xlabel='index', ylabel='spam'>"
      ]
     },
     "execution_count": 30,
     "metadata": {},
     "output_type": "execute_result"
    },
    {
     "data": {
      "image/png": "[encoded data removed]",
      "text/plain": [
       "<Figure size 640x480 with 1 Axes>"
      ]
     },
     "metadata": {},
     "output_type": "display_data"
    }
   ],
   "source": [
    "sns.barplot(teste, y='spam', x='index')"
   ]
  },
  {
   "cell_type": "markdown",
   "id": "c3bf7781-07e3-4ac2-a0cb-53c4d9f39368",
   "metadata": {},
   "source": [
    "## Cálculo das probabilidade"
   ]
  },
  {
   "cell_type": "code",
   "execution_count": 34,
   "id": "f2f518f8-c979-4ab6-8b30-5f732cee6f76",
   "metadata": {},
   "outputs": [
    {
     "data": {
      "text/html": [
       "<div>\n",
       "<style scoped>\n",
       "    .dataframe tbody tr th:only-of-type {\n",
       "        vertical-align: middle;\n",
       "    }\n",
       "\n",
       "    .dataframe tbody tr th {\n",
       "        vertical-align: top;\n",
       "    }\n",
       "\n",
       "    .dataframe thead th {\n",
       "        text-align: right;\n",
       "    }\n",
       "</style>\n",
       "<table border=\"1\" class=\"dataframe\">\n",
       "  <thead>\n",
       "    <tr style=\"text-align: right;\">\n",
       "      <th></th>\n",
       "      <th>total_email</th>\n",
       "      <th>Categoria</th>\n",
       "      <th>Dear</th>\n",
       "      <th>Friend</th>\n",
       "      <th>Lunch</th>\n",
       "      <th>Money</th>\n",
       "      <th>totalAmostra</th>\n",
       "    </tr>\n",
       "  </thead>\n",
       "  <tbody>\n",
       "    <tr>\n",
       "      <th>0</th>\n",
       "      <td>8</td>\n",
       "      <td>normal</td>\n",
       "      <td>8</td>\n",
       "      <td>5</td>\n",
       "      <td>3</td>\n",
       "      <td>1</td>\n",
       "      <td>17</td>\n",
       "    </tr>\n",
       "    <tr>\n",
       "      <th>1</th>\n",
       "      <td>4</td>\n",
       "      <td>spam</td>\n",
       "      <td>2</td>\n",
       "      <td>1</td>\n",
       "      <td>0</td>\n",
       "      <td>4</td>\n",
       "      <td>7</td>\n",
       "    </tr>\n",
       "  </tbody>\n",
       "</table>\n",
       "</div>"
      ],
      "text/plain": [
       "   total_email Categoria  Dear  Friend  Lunch  Money  totalAmostra\n",
       "0            8    normal     8       5      3      1            17\n",
       "1            4      spam     2       1      0      4             7"
      ]
     },
     "execution_count": 34,
     "metadata": {},
     "output_type": "execute_result"
    }
   ],
   "source": [
    "df[\"totalAmostra\"] = 0  # Inicializa a nova coluna\n",
    "for i in range(2, 6):  # Para as colunas 1 até 4\n",
    "    df[\"totalAmostra\"] += df.iloc[:, i]  # Soma os valores das colunas\n",
    "df"
   ]
  },
  {
   "cell_type": "code",
   "execution_count": 39,
   "id": "075eba98-2c97-4e46-b13d-970124658b4d",
   "metadata": {},
   "outputs": [],
   "source": [
    "df_prob = df.copy()\n",
    "df_prob.set_index('Categoria', inplace=True)"
   ]
  },
  {
   "cell_type": "code",
   "execution_count": 40,
   "id": "5277b249-6f92-4e35-95ff-b766824012af",
   "metadata": {},
   "outputs": [
    {
     "data": {
      "text/html": [
       "<div>\n",
       "<style scoped>\n",
       "    .dataframe tbody tr th:only-of-type {\n",
       "        vertical-align: middle;\n",
       "    }\n",
       "\n",
       "    .dataframe tbody tr th {\n",
       "        vertical-align: top;\n",
       "    }\n",
       "\n",
       "    .dataframe thead th {\n",
       "        text-align: right;\n",
       "    }\n",
       "</style>\n",
       "<table border=\"1\" class=\"dataframe\">\n",
       "  <thead>\n",
       "    <tr style=\"text-align: right;\">\n",
       "      <th></th>\n",
       "      <th>total_email</th>\n",
       "      <th>Dear</th>\n",
       "      <th>Friend</th>\n",
       "      <th>Lunch</th>\n",
       "      <th>Money</th>\n",
       "      <th>totalAmostra</th>\n",
       "    </tr>\n",
       "    <tr>\n",
       "      <th>Categoria</th>\n",
       "      <th></th>\n",
       "      <th></th>\n",
       "      <th></th>\n",
       "      <th></th>\n",
       "      <th></th>\n",
       "      <th></th>\n",
       "    </tr>\n",
       "  </thead>\n",
       "  <tbody>\n",
       "    <tr>\n",
       "      <th>normal</th>\n",
       "      <td>8</td>\n",
       "      <td>8</td>\n",
       "      <td>5</td>\n",
       "      <td>3</td>\n",
       "      <td>1</td>\n",
       "      <td>17</td>\n",
       "    </tr>\n",
       "    <tr>\n",
       "      <th>spam</th>\n",
       "      <td>4</td>\n",
       "      <td>2</td>\n",
       "      <td>1</td>\n",
       "      <td>0</td>\n",
       "      <td>4</td>\n",
       "      <td>7</td>\n",
       "    </tr>\n",
       "  </tbody>\n",
       "</table>\n",
       "</div>"
      ],
      "text/plain": [
       "           total_email  Dear  Friend  Lunch  Money  totalAmostra\n",
       "Categoria                                                       \n",
       "normal               8     8       5      3      1            17\n",
       "spam                 4     2       1      0      4             7"
      ]
     },
     "execution_count": 40,
     "metadata": {},
     "output_type": "execute_result"
    }
   ],
   "source": [
    "df_prob"
   ]
  },
  {
   "cell_type": "code",
   "execution_count": 41,
   "id": "9b9aebe8-58d6-49bf-bba0-eac0b94778f8",
   "metadata": {},
   "outputs": [
    {
     "data": {
      "text/html": [
       "<div>\n",
       "<style scoped>\n",
       "    .dataframe tbody tr th:only-of-type {\n",
       "        vertical-align: middle;\n",
       "    }\n",
       "\n",
       "    .dataframe tbody tr th {\n",
       "        vertical-align: top;\n",
       "    }\n",
       "\n",
       "    .dataframe thead th {\n",
       "        text-align: right;\n",
       "    }\n",
       "</style>\n",
       "<table border=\"1\" class=\"dataframe\">\n",
       "  <thead>\n",
       "    <tr style=\"text-align: right;\">\n",
       "      <th></th>\n",
       "      <th>Categoria</th>\n",
       "      <th>total_email</th>\n",
       "      <th>Dear</th>\n",
       "      <th>Friend</th>\n",
       "      <th>Lunch</th>\n",
       "      <th>Money</th>\n",
       "      <th>totalAmostra</th>\n",
       "    </tr>\n",
       "  </thead>\n",
       "  <tbody>\n",
       "    <tr>\n",
       "      <th>0</th>\n",
       "      <td>normal</td>\n",
       "      <td>8</td>\n",
       "      <td>0.428571</td>\n",
       "      <td>0.285714</td>\n",
       "      <td>0.190476</td>\n",
       "      <td>0.095238</td>\n",
       "      <td>17</td>\n",
       "    </tr>\n",
       "    <tr>\n",
       "      <th>1</th>\n",
       "      <td>spam</td>\n",
       "      <td>4</td>\n",
       "      <td>0.272727</td>\n",
       "      <td>0.181818</td>\n",
       "      <td>0.090909</td>\n",
       "      <td>0.454545</td>\n",
       "      <td>7</td>\n",
       "    </tr>\n",
       "  </tbody>\n",
       "</table>\n",
       "</div>"
      ],
      "text/plain": [
       "  Categoria  total_email      Dear    Friend     Lunch     Money  totalAmostra\n",
       "0    normal            8  0.428571  0.285714  0.190476  0.095238            17\n",
       "1      spam            4  0.272727  0.181818  0.090909  0.454545             7"
      ]
     },
     "execution_count": 41,
     "metadata": {},
     "output_type": "execute_result"
    }
   ],
   "source": [
    "for coluna in df_prob.columns:\n",
    "    if coluna != 'totalAmostra' and coluna != 'total_email':\n",
    "        df_prob[coluna] = (df_prob.loc[:, coluna] + 1) / (df_prob.loc[:, 'totalAmostra'] + 4)\n",
    "df_prob = df_prob.reset_index()\n",
    "df_prob"
   ]
  },
  {
   "cell_type": "markdown",
   "id": "5bd4a473-aba8-40e0-bce4-fd2f23506e3f",
   "metadata": {},
   "source": [
    "## Aplicação do algoritmo"
   ]
  },
  {
   "cell_type": "code",
   "execution_count": 53,
   "id": "c4d0ee40-ee0f-4d60-8f9d-6c8af51de8e6",
   "metadata": {},
   "outputs": [],
   "source": [
    "def classificar_sequencia_com_prob(sequencia, df_prob):\n",
    "    # Extrair probabilidades\n",
    "    df_normal = df_prob[df_prob['Categoria'] == 'normal'].drop(columns='Categoria')\n",
    "    df_spam = df_prob[df_prob['Categoria'] == 'spam'].drop(columns='Categoria')\n",
    "\n",
    "    prior_normal = df_prob.iloc[0,1] / df_prob['total_email'].sum()\n",
    "    prior_spam = df_prob.iloc[1,1] / df_prob['total_email'].sum()\n",
    "\n",
    "    posterior_normal = prior_normal\n",
    "    posterior_spam = prior_spam\n",
    "\n",
    "    for nova_palavra in sequencia:\n",
    "        if nova_palavra not in df_normal.columns:\n",
    "            return \"Palavra não conhecida\"\n",
    "\n",
    "        prob_normal = df_normal[nova_palavra].values[0]\n",
    "        prob_spam = df_spam[nova_palavra].values[0]\n",
    "\n",
    "        posterior_normal *= prob_normal\n",
    "        posterior_spam *= prob_spam\n",
    "\n",
    "    if posterior_normal > posterior_spam:\n",
    "        return \"normal\"\n",
    "    else:\n",
    "        return \"spam\""
   ]
  },
  {
   "cell_type": "code",
   "execution_count": 54,
   "id": "ba444326-3de5-4979-b4d8-b15197d97a79",
   "metadata": {},
   "outputs": [
    {
     "name": "stdout",
     "output_type": "stream",
     "text": [
      "A sequência Dear Friend foi classificada como: normal\n"
     ]
    }
   ],
   "source": [
    "# Testando a função\n",
    "# sequencia = [\"Lunch\", \"Money\", \"Money\", \"Money\", \"Money\"]\n",
    "sequencia = [\"Dear\", \"Friend\"]\n",
    "categoria = classificar_sequencia_com_prob(sequencia, df_prob)\n",
    "print(f\"A sequência {' '.join(sequencia)} foi classificada como: {categoria}\")"
   ]
  }
 ],
 "metadata": {
  "kernelspec": {
   "display_name": "Python 3 (ipykernel)",
   "language": "python",
   "name": "python3"
  },
  "language_info": {
   "codemirror_mode": {
    "name": "ipython",
    "version": 3
   },
   "file_extension": ".py",
   "mimetype": "text/x-python",
   "name": "python",
   "nbconvert_exporter": "python",
   "pygments_lexer": "ipython3",
   "version": "3.12.8"
  }
 },
 "nbformat": 4,
 "nbformat_minor": 5
}
