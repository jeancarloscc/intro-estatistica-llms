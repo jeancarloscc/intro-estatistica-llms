{
 "cells": [
  {
   "cell_type": "code",
   "execution_count": 45,
   "id": "72e03055-b851-46e6-bc18-3d684ec57386",
   "metadata": {},
   "outputs": [],
   "source": [
    "import torch\n",
    "import torch.nn as nn\n",
    "import torch.optim as optim\n",
    "import numpy as np\n",
    "import matplotlib.pyplot as plt"
   ]
  },
  {
   "cell_type": "code",
   "execution_count": 46,
   "id": "bb7f3324-9e55-407b-900e-a08e697b736f",
   "metadata": {},
   "outputs": [],
   "source": [
    "# Definindo os 3 padrões (imagens 3x3)\n",
    "pattern1 = np.array([\n",
    "    [0, 1, 0],\n",
    "    [1, 1, 1],\n",
    "    [0, 1, 0]\n",
    "])\n",
    "\n",
    "pattern2 = np.array([\n",
    "    [1, 0, 0],\n",
    "    [0, 1, 0],\n",
    "    [0, 0, 1]\n",
    "])\n",
    "\n",
    "pattern3 = np.array([\n",
    "    [0, 0, 1],\n",
    "    [0, 1, 0],\n",
    "    [1, 0, 0]\n",
    "])"
   ]
  },
  {
   "cell_type": "code",
   "execution_count": 47,
   "id": "6670c175-8da9-4344-97ee-6286c08b7e49",
   "metadata": {},
   "outputs": [],
   "source": [
    "# Empilhando os padrões (cada padrão é flatten para vetor de 9 elementos)\n",
    "patterns = np.array([\n",
    "    pattern1.flatten(),\n",
    "    pattern2.flatten(),\n",
    "    pattern3.flatten(),\n",
    "])\n",
    "# Definindo os rótulos para cada padrão\n",
    "labels = np.array([0, 1, 2])"
   ]
  },
  {
   "cell_type": "code",
   "execution_count": 48,
   "id": "2c20b65c-d984-4ec5-8c5f-42f6fd522a4e",
   "metadata": {},
   "outputs": [],
   "source": [
    "# Convertendo para tensores do PyTorch\n",
    "X = torch.tensor(patterns, dtype=torch.float32)   # shape (3, 9)\n",
    "Y = torch.tensor(labels, dtype=torch.long)          # shape (3,)"
   ]
  },
  {
   "cell_type": "code",
   "execution_count": 49,
   "id": "95978ddf-d156-4a83-85d2-345ea2cdc529",
   "metadata": {},
   "outputs": [
    {
     "data": {
      "text/plain": [
       "tensor([[0., 1., 0., 1., 1., 1., 0., 1., 0.],\n",
       "        [1., 0., 0., 0., 1., 0., 0., 0., 1.],\n",
       "        [0., 0., 1., 0., 1., 0., 1., 0., 0.]])"
      ]
     },
     "execution_count": 49,
     "metadata": {},
     "output_type": "execute_result"
    }
   ],
   "source": [
    "X"
   ]
  },
  {
   "cell_type": "code",
   "execution_count": 50,
   "id": "79be6065-1b86-4af7-a985-740a50932ade",
   "metadata": {},
   "outputs": [
    {
     "data": {
      "text/plain": [
       "tensor([0, 1, 2])"
      ]
     },
     "execution_count": 50,
     "metadata": {},
     "output_type": "execute_result"
    }
   ],
   "source": [
    "Y"
   ]
  },
  {
   "cell_type": "code",
   "execution_count": 51,
   "id": "d27d6468-46eb-40df-beea-cce81547d639",
   "metadata": {},
   "outputs": [],
   "source": [
    "# Definindo a rede neural simples com uma camada oculta\n",
    "class SimpleNN(nn.Module):\n",
    "    def __init__(self):\n",
    "        super(SimpleNN, self).__init__()\n",
    "        self.fc1 = nn.Linear(9,4)\n",
    "        self.fc2 = nn.Linear(4,4)\n",
    "        self.fc3 = nn.Linear(4,3)\n",
    "        self.relu = nn.ReLU()\n",
    "        \n",
    "    def forward(self, x):\n",
    "        x = self.relu(self.fc1(x))\n",
    "        x = self.relu(self.fc2(x))\n",
    "        x = self.fc3(x)  # No activation function at the output layer (depends on task)\n",
    "        return x"
   ]
  },
  {
   "cell_type": "code",
   "execution_count": 52,
   "id": "683605a6-1feb-49a9-9f7a-cf4300cdd9b4",
   "metadata": {},
   "outputs": [
    {
     "name": "stdout",
     "output_type": "stream",
     "text": [
      "SimpleNN(\n",
      "  (fc1): Linear(in_features=9, out_features=4, bias=True)\n",
      "  (fc2): Linear(in_features=4, out_features=4, bias=True)\n",
      "  (fc3): Linear(in_features=4, out_features=3, bias=True)\n",
      "  (relu): ReLU()\n",
      ")\n"
     ]
    }
   ],
   "source": [
    "# Instanciando a rede, a função de perda e o otimizador\n",
    "model = SimpleNN()\n",
    "print(model)\n",
    "criterion = nn.CrossEntropyLoss()  # Para classificação (não aplicamos softmax, pois o loss já faz isso)\n",
    "optimizer = optim.SGD(model.parameters(), lr=0.1)"
   ]
  },
  {
   "cell_type": "code",
   "execution_count": 53,
   "id": "53352bf2-f915-4587-bb6b-57199c26883c",
   "metadata": {},
   "outputs": [
    {
     "name": "stdout",
     "output_type": "stream",
     "text": [
      "Epoch 0, Loss: 1.1270\n",
      "Epoch 500, Loss: 0.0190\n",
      "Epoch 1000, Loss: 0.0083\n",
      "Epoch 1500, Loss: 0.0053\n",
      "Epoch 2000, Loss: 0.0039\n",
      "Epoch 2500, Loss: 0.0030\n",
      "Epoch 3000, Loss: 0.0025\n",
      "Epoch 3500, Loss: 0.0021\n",
      "Epoch 4000, Loss: 0.0018\n",
      "Epoch 4500, Loss: 0.0016\n"
     ]
    }
   ],
   "source": [
    "# Treinamento da rede\n",
    "epochs = 5000\n",
    "loss_history = []\n",
    "\n",
    "for epoch in range(epochs):\n",
    "    optimizer.zero_grad()          # Zera os gradientes\n",
    "    outputs = model(X)             # Forward pass (saída com shape (3,3))\n",
    "    loss = criterion(outputs, Y)   # Calcula a loss comparando com os rótulos corretos\n",
    "    loss.backward()                # Backpropagation\n",
    "    optimizer.step()               # Atualiza os pesos\n",
    "    \n",
    "    loss_history.append(loss.item())\n",
    "    if epoch % 500 == 0:\n",
    "        print(f'Epoch {epoch}, Loss: {loss.item():.4f}')"
   ]
  },
  {
   "cell_type": "code",
   "execution_count": 54,
   "id": "014f386d-dda7-49ca-8f20-7eb2a76d405f",
   "metadata": {},
   "outputs": [
    {
     "data": {
      "image/png": "[encoded data removed]",
      "text/plain": [
       "<Figure size 800x400 with 1 Axes>"
      ]
     },
     "metadata": {},
     "output_type": "display_data"
    }
   ],
   "source": [
    "# Visualizando a curva de perda\n",
    "plt.figure(figsize=(8,4))\n",
    "plt.plot(loss_history)\n",
    "plt.xlabel('Época')\n",
    "plt.ylabel('Loss')\n",
    "plt.title('Curva de Perda durante o Treinamento')\n",
    "plt.show()"
   ]
  },
  {
   "cell_type": "code",
   "execution_count": 55,
   "id": "4cafcba4-1ddd-44da-bac9-fa49ba36615c",
   "metadata": {},
   "outputs": [
    {
     "name": "stdout",
     "output_type": "stream",
     "text": [
      "Rótulos reais: [0 1 2]\n",
      "Previsões da rede: [0 1 2]\n"
     ]
    }
   ],
   "source": [
    "# Avaliando a rede\n",
    "with torch.no_grad():\n",
    "    outputs = model(X)\n",
    "    _, predicted = torch.max(outputs, 1)\n",
    "    print('Rótulos reais:', labels)\n",
    "    print('Previsões da rede:', predicted.numpy())"
   ]
  },
  {
   "cell_type": "code",
   "execution_count": 56,
   "id": "4b1207f6-c270-463b-af15-0533acc637be",
   "metadata": {},
   "outputs": [
    {
     "data": {
      "image/png": "[encoded data removed]",
      "text/plain": [
       "<Figure size 900x300 with 3 Axes>"
      ]
     },
     "metadata": {},
     "output_type": "display_data"
    }
   ],
   "source": [
    "# Visualizando os padrões (imagens 3x3)\n",
    "fig, axs = plt.subplots(1, 3, figsize=(9,3))\n",
    "for i, pattern in enumerate(patterns):\n",
    "    axs[i].imshow(pattern.reshape(3,3), cmap='gray')\n",
    "    axs[i].set_title(f'Padrão {i}')\n",
    "    axs[i].axis('off')\n",
    "plt.suptitle('Padrões 3x3 para Treinamento')\n",
    "plt.show()"
   ]
  },
  {
   "cell_type": "markdown",
   "id": "5ef9cc1a-57a2-414b-8eb3-636a1b58dee1",
   "metadata": {},
   "source": [
    "### Testar com novas entradas"
   ]
  },
  {
   "cell_type": "code",
   "execution_count": 57,
   "id": "e6c0d310-c424-4936-a716-8f4e11805c1c",
   "metadata": {},
   "outputs": [],
   "source": [
    "# Criando novos padrões semelhantes, mas com pequenas variações\n",
    "test_pattern1 = np.array([\n",
    "    [0, 1, 0],\n",
    "    [1, 0, 1],  # Mudança no centro\n",
    "    [0, 1, 0]\n",
    "])\n",
    "\n",
    "test_pattern2 = np.array([\n",
    "    [1, 0, 0],\n",
    "    [0, 1, 1],  # Mudança na parte direita\n",
    "    [0, 0, 1]\n",
    "])\n",
    "\n",
    "test_pattern3 = np.array([\n",
    "    [0, 0, 1],\n",
    "    [1, 1, 0],  # Mudança na parte central\n",
    "    [1, 0, 0]\n",
    "])\n",
    "\n",
    "test_pattern4 = np.array([\n",
    "    [1, 0, 1],\n",
    "    [0, 1, 0],  # Mudança no centro\n",
    "    [1, 0, 1]\n",
    "])"
   ]
  },
  {
   "cell_type": "code",
   "execution_count": 58,
   "id": "88e01bdd-227a-46e1-a2d7-bde473ab6c6a",
   "metadata": {},
   "outputs": [],
   "source": [
    "# Convertendo os novos padrões para tensores do PyTorch\n",
    "X_test = np.array([\n",
    "    test_pattern1.flatten(),\n",
    "    test_pattern2.flatten(),\n",
    "    test_pattern3.flatten(),\n",
    "    test_pattern4.flatten()\n",
    "])"
   ]
  },
  {
   "cell_type": "code",
   "execution_count": 59,
   "id": "e48541c0-a851-4abb-8524-31289628da47",
   "metadata": {},
   "outputs": [],
   "source": [
    "X_test_torch = torch.tensor(X_test, dtype=torch.float32)"
   ]
  },
  {
   "cell_type": "code",
   "execution_count": 60,
   "id": "274974f7-843c-4c80-8c05-f6ed37b29f9f",
   "metadata": {},
   "outputs": [
    {
     "name": "stdout",
     "output_type": "stream",
     "text": [
      "\n",
      "==== Teste com Novos Padrões ====\n",
      "Previsões da rede: [0 1 2 2]\n"
     ]
    }
   ],
   "source": [
    "# Testando a rede com os novos padrões\n",
    "model.eval()\n",
    "with torch.no_grad():\n",
    "    outputs = model(X_test_torch)\n",
    "    _, predicted_labels = torch.max(outputs, 1)  # Obtém a classe prevista\n",
    "\n",
    "print(\"\\n==== Teste com Novos Padrões ====\")\n",
    "print(\"Previsões da rede:\", predicted_labels.numpy())\n"
   ]
  },
  {
   "cell_type": "code",
   "execution_count": 61,
   "id": "c12768e9-6a81-4006-ace5-ceba926f3f4e",
   "metadata": {},
   "outputs": [
    {
     "data": {
      "image/png": "[encoded data removed]",
      "text/plain": [
       "<Figure size 1200x300 with 4 Axes>"
      ]
     },
     "metadata": {},
     "output_type": "display_data"
    }
   ],
   "source": [
    "fig, axs = plt.subplots(1, 4, figsize=(12,3))\n",
    "for i, pattern in enumerate(X_test):\n",
    "    axs[i].imshow(pattern.reshape(3,3), cmap='gray')\n",
    "    axs[i].set_title(f'Padrão Teste {i}')\n",
    "    axs[i].axis('off')\n",
    "\n",
    "plt.suptitle('Novos Padrões 3x3 para Teste')\n",
    "plt.show()"
   ]
  }
 ],
 "metadata": {
  "kernelspec": {
   "display_name": "Python 3 (ipykernel)",
   "language": "python",
   "name": "python3"
  },
  "language_info": {
   "codemirror_mode": {
    "name": "ipython",
    "version": 3
   },
   "file_extension": ".py",
   "mimetype": "text/x-python",
   "name": "python",
   "nbconvert_exporter": "python",
   "pygments_lexer": "ipython3",
   "version": "3.12.8"
  }
 },
 "nbformat": 4,
 "nbformat_minor": 5
}
