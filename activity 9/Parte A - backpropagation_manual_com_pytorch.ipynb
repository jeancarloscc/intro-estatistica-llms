{
 "cells": [
  {
   "cell_type": "markdown",
   "id": "fa7ae142-61cd-4b10-bb4d-4ce1b67090eb",
   "metadata": {},
   "source": [
    "# Backpropagation com PyTorch"
   ]
  },
  {
   "cell_type": "code",
   "execution_count": 20,
   "id": "b6c8c112-ed0b-4cd1-b0fc-07d106640ecb",
   "metadata": {},
   "outputs": [],
   "source": [
    "import numpy as np\n",
    "import torch\n",
    "import torch.nn as nn\n",
    "import torch.optim as optim\n",
    "import matplotlib.pyplot as plt\n"
   ]
  },
  {
   "cell_type": "markdown",
   "id": "1bbde761-2399-4ebb-8091-8ff9b1a09c50",
   "metadata": {},
   "source": [
    "### Criação da Classe chamanda NeuralNet"
   ]
  },
  {
   "cell_type": "markdown",
   "id": "b9d55445-100a-4afe-b25c-8dc9959165e6",
   "metadata": {},
   "source": [
    "$ \\text{Sigmoid}(x) = \\sigma(x) = \\frac{1}{1 + \\exp(-x)} $"
   ]
  },
  {
   "cell_type": "code",
   "execution_count": 32,
   "id": "757b06cf-1974-402a-946e-5dea4f3545a4",
   "metadata": {},
   "outputs": [],
   "source": [
    "class NeuralNet:\n",
    "    def __init__(self):\n",
    "        self.w1, self.w2, self.w3, self.w4 = np.random.randn(4)\n",
    "        self.b1, self.b2, self.b3 = np.random.randn(3)\n",
    "        self.lr = 0.01 # Taxa de aprendizado\n",
    "\n",
    "    def sigmoid(self, X):\n",
    "        return 1 / (1 + np.exp(-X))\n",
    "\n",
    "    def sigmoid_derivative(self, X):\n",
    "        return X * (1 - X)\n",
    "\n",
    "    def forward(self, X):\n",
    "        self.z1 = self.w1 * X + self.b1\n",
    "        self.a1 = self.sigmoid(self.z1)\n",
    "\n",
    "        self.z2 = self.w2 * self.a1 + self.b2\n",
    "        self.a2 = self.sigmoid(self.z2)\n",
    "\n",
    "        self.z3 = self.w3 * self.a2 + self.b3\n",
    "        self.output = self.sigmoid(self.z3)\n",
    "\n",
    "        return self.output\n",
    "\n",
    "    def backward(self, X, y):\n",
    "        error = y - self.output\n",
    "        d_output = error * self.sigmoid_derivative(self.output)\n",
    "\n",
    "        d_z2 = d_output * self.w3 * self.sigmoid_derivative(self.a2)\n",
    "        d_w3 = self.a2 * d_output\n",
    "        d_b3 = d_output\n",
    "        \n",
    "        d_z1 = d_z2 * self.w2 * self.sigmoid_derivative(self.a1)\n",
    "        d_w2 = self.a1 * d_z2\n",
    "        d_b2 = d_z2\n",
    "        \n",
    "        d_w1 = X * d_z1\n",
    "        d_b1 = d_z1\n",
    "        \n",
    "        # Atualiza os pesos\n",
    "        self.w1 += self.lr * d_w1\n",
    "        self.w2 += self.lr * d_w2\n",
    "        self.w3 += self.lr * d_w3\n",
    "        self.b1 += self.lr * d_b1\n",
    "        self.b2 += self.lr * d_b2\n",
    "        self.b3 += self.lr * d_b3\n",
    "\n",
    "    def train(self, X, Y, epochs=1000):\n",
    "        errors = []\n",
    "        for _ in range(epochs):\n",
    "            total_error = 0\n",
    "            for x, y in zip(X, Y):\n",
    "                self.forward(x)\n",
    "                total_error += (y - self.output) ** 2\n",
    "                self.backward(x, y)\n",
    "            errors.append(total_error / len(X))\n",
    "        return errors"
   ]
  },
  {
   "cell_type": "markdown",
   "id": "cfc093b1-471c-489b-b1ce-1537239f75d0",
   "metadata": {},
   "source": [
    "Dados de entrada (pequeno exemplo)"
   ]
  },
  {
   "cell_type": "code",
   "execution_count": 33,
   "id": "8491d236-a037-4594-9d6b-174da4c15645",
   "metadata": {},
   "outputs": [],
   "source": [
    "X = np.array([0,1,2,3])\n",
    "Y = np.array([0,1,1,0])"
   ]
  },
  {
   "cell_type": "code",
   "execution_count": 34,
   "id": "de2f03df-1feb-4867-b3f4-e630dc7efd40",
   "metadata": {},
   "outputs": [],
   "source": [
    "nn_model = NeuralNet()\n",
    "errors_model = nn_model.train(X, Y)"
   ]
  },
  {
   "cell_type": "markdown",
   "id": "57fc7fbd-42ef-4311-92d9-819600ab283a",
   "metadata": {},
   "source": [
    "## Implementação no PyTorch"
   ]
  },
  {
   "cell_type": "code",
   "execution_count": 35,
   "id": "015ee35f-e0d0-474d-8a0f-6a97e10b54c1",
   "metadata": {},
   "outputs": [],
   "source": [
    "class NeuralNetTorch(nn.Module):\n",
    "    def __init__(self):\n",
    "        super(NeuralNetTorch, self).__init__()\n",
    "        self.dense1 = nn.Linear(1, 3)\n",
    "        self.dense2 = nn.Linear(3, 1)\n",
    "        self.sigmoid = nn.Sigmoid()\n",
    "\n",
    "    def forward(self, X):\n",
    "        X = self.sigmoid(self.dense1(X))\n",
    "        X = self.sigmoid(self.dense2(X))\n",
    "        return X"
   ]
  },
  {
   "cell_type": "markdown",
   "id": "0e9cfef7-c40e-430f-a314-0fdda2cd461c",
   "metadata": {},
   "source": [
    "### Criando a rede e definindo otimizador e perda"
   ]
  },
  {
   "cell_type": "code",
   "execution_count": 36,
   "id": "d45ea1af-27d7-4771-b5a8-98bfb6b04101",
   "metadata": {},
   "outputs": [],
   "source": [
    "model = NeuralNetTorch()\n",
    "criterion = nn.MSELoss()\n",
    "optimizer = optim.SGD(model.parameters(), lr=0.01)"
   ]
  },
  {
   "cell_type": "markdown",
   "id": "970f57ba-adf4-434a-aafe-c2cec04dd1c8",
   "metadata": {},
   "source": [
    "### Preparando os dados"
   ]
  },
  {
   "cell_type": "code",
   "execution_count": 37,
   "id": "2ec93d74-0e74-45d0-bcbb-6f67cc4f4577",
   "metadata": {},
   "outputs": [],
   "source": [
    "X_torch = torch.tensor(X, dtype=torch.float32).view(-1, 1)\n",
    "Y_torch = torch.tensor(Y, dtype=torch.float32).view(-1, 1)"
   ]
  },
  {
   "cell_type": "code",
   "execution_count": 38,
   "id": "52b7e4e5-5f90-474e-ad99-7bd5d945f200",
   "metadata": {},
   "outputs": [
    {
     "name": "stdout",
     "output_type": "stream",
     "text": [
      "Treinamento concluído!\n"
     ]
    }
   ],
   "source": [
    "# Treinamento da rede no PyTorch\n",
    "torch_errors = []\n",
    "for epoch in range(1000):\n",
    "    optimizer.zero_grad()\n",
    "    output = model(X_torch)\n",
    "    loss = criterion(output, Y_torch)\n",
    "    loss.backward()\n",
    "    optimizer.step()\n",
    "    torch_errors.append(loss.item())\n",
    "\n",
    "print(\"Treinamento concluído!\")"
   ]
  },
  {
   "cell_type": "code",
   "execution_count": 39,
   "id": "7b4880ed-81af-4055-9cf0-a4550866c940",
   "metadata": {},
   "outputs": [
    {
     "data": {
      "image/png": "[encoded data removed]",
      "text/plain": [
       "<Figure size 640x480 with 1 Axes>"
      ]
     },
     "metadata": {},
     "output_type": "display_data"
    }
   ],
   "source": [
    "# Plotando a curva de erro\n",
    "plt.plot(errors_model, label='Erro - Backprop Manual')\n",
    "plt.plot(torch_errors, label='Erro - PyTorch')\n",
    "plt.xlabel('Épocas')\n",
    "plt.ylabel('Erro')\n",
    "plt.legend()\n",
    "plt.show()"
   ]
  },
  {
   "cell_type": "markdown",
   "id": "f03cabbf-0ef0-4f82-a2ba-39a33e5d1092",
   "metadata": {},
   "source": [
    "## **Explicação do Código**\n",
    "\n",
    "### **1. Implementação Manual do Backpropagation**\n",
    "A classe `ManualNeuralNet` representa uma **rede neural simples** com uma camada oculta e uma saída. O treinamento segue o **algoritmo de backpropagation**:\n",
    "\n",
    "📌 **Passos do Backpropagation:**\n",
    "1. **Inicialização dos Pesos e Vieses**: Iniciamos os pesos (`w1, w2, w3, w4`) e vieses (`b1, b2, b3`) com valores aleatórios.\n",
    "2. **Forward Pass**:\n",
    "   - Calculamos as ativações das camadas com a **função sigmoide**.\n",
    "   - A equação básica de cada neurônio é \\( z = w \\cdot x + b \\), seguida de \\( a = \\text{sigmoid}(z) \\).\n",
    "3. **Cálculo do erro**: A diferença entre a saída esperada e a saída da rede.\n",
    "4. **Backward Pass**:\n",
    "   - Derivamos a função sigmoide para calcular os gradientes.\n",
    "   - Atualizamos os pesos e vieses usando **gradiente descendente**.\n",
    "\n",
    "### **2. Implementação no PyTorch**\n",
    "O **PyTorch** já automatiza o cálculo de gradientes, então o código fica mais simples:\n",
    "\n",
    "📌 **Passos:**\n",
    "1. Criamos uma rede com `nn.Linear` (camadas totalmente conectadas).\n",
    "2. Utilizamos a **função sigmoide** para ativação.\n",
    "3. Definimos a função de erro `MSELoss` e o otimizador `SGD`.\n",
    "4. Treinamos a rede por **1000 épocas**, ajustando os pesos automaticamente.\n",
    "\n",
    "---\n",
    "\n",
    "## **Como Visualizar os Resultados?**\n",
    "Para ver os resultados, podemos:\n",
    "1. **Imprimir os pesos e vieses finais** após o treinamento.\n",
    "2. **Plotar a curva de erro** para ver a convergência da rede.\n",
    "3. **Comparar previsões antes e depois do treinamento**.\n",
    "\n",
    "\n",
    "Agora o código:\n",
    "✅ **Mostra os erros ao longo do treinamento** para comparação.  \n",
    "✅ **Plota um gráfico** com a curva de erro para ver a convergência.  "
   ]
  }
 ],
 "metadata": {
  "kernelspec": {
   "display_name": "Python 3 (ipykernel)",
   "language": "python",
   "name": "python3"
  },
  "language_info": {
   "codemirror_mode": {
    "name": "ipython",
    "version": 3
   },
   "file_extension": ".py",
   "mimetype": "text/x-python",
   "name": "python",
   "nbconvert_exporter": "python",
   "pygments_lexer": "ipython3",
   "version": "3.12.8"
  }
 },
 "nbformat": 4,
 "nbformat_minor": 5
}
