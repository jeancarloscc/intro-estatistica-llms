{
 "cells": [
  {
   "cell_type": "markdown",
   "id": "fa7ae142-61cd-4b10-bb4d-4ce1b67090eb",
   "metadata": {},
   "source": [
    "# Backpropagation com PyTorch"
   ]
  },
  {
   "cell_type": "markdown",
   "id": "1e66607c-ec30-4839-bd46-e0bd067d91c6",
   "metadata": {},
   "source": [
    "### Importação de Bibliotecas Necessárias"
   ]
  },
  {
   "cell_type": "code",
   "execution_count": 1,
   "id": "b6c8c112-ed0b-4cd1-b0fc-07d106640ecb",
   "metadata": {},
   "outputs": [],
   "source": [
    "import numpy as np\n",
    "import torch\n",
    "import torch.nn as nn\n",
    "import torch.optim as optim\n",
    "import matplotlib.pyplot as plt"
   ]
  },
  {
   "cell_type": "markdown",
   "id": "a2bad125-fba2-4d9d-af41-6ca80a9d658d",
   "metadata": {},
   "source": [
    "### Definição da Classe NeuralNet\n",
    "\n",
    "A classe `NeuralNet` implementa uma rede neural simples de uma camada oculta com a função de ativação sigmoide. A rede é treinada utilizando o algoritmo de *backpropagation* para ajustar os pesos e *bias*. A seguir, é explicado cada parte dessa classe.\n",
    "\n",
    "#### 1. **Método `__init__` (Inicialização)**\n",
    "\n",
    "O método `__init__` inicializa os pesos (`w1`, `w2`, `w3`, `w4`) e os *bais* (`b1`, `b2`, `b3`) da rede com valores aleatórios gerados por uma distribuição normal. Além disso, é definida a taxa de aprendizado (`lr`), que controla a quantidade de ajuste feita nos pesos durante o treinamento.\n",
    "\n",
    "- **Pesos**: `w1`, `w2`, `w3` e `w4` são valores aleatórios que vão ser ajustados durante o treinamento.\n",
    "- **Bias**: `b1`, `b2` e `b3` são os valores de viés para cada camada da rede.\n",
    "- **Taxa de aprendizado (`lr`)**: A taxa com que a rede vai aprender. Quanto menor for o valor, mais os pesos serão ajustados.\n",
    "\n",
    "#### 2. **Método `sigmoid`**\n",
    "\n",
    "A função `sigmoid` é a função de ativação utilizada na rede neural. Ela é uma função não linear e com ele mapea os valores de entrada para o intervalo entre 0 e 1. A fórmula é dada por:\n",
    "\n",
    "$$\n",
    "\\sigma(x) = \\frac{1}{1 + e^{-x}}\n",
    "$$\n",
    "\n",
    "#### 3. **Método `sigmoid_derivative`**\n",
    "\n",
    "Este método calcula a derivada da função *sigmoid*, que é necessária para o processo de *backpropagation*. A derivada é usada para ajustar os pesos de forma eficiente durante o treinamento, permitindo que a rede minimize o erro.\n",
    "\n",
    "#### 4. **Método `forward`**\n",
    "\n",
    "O método `forward` realiza a propagação para frente, ou seja, calcula a saída da rede com base nas entradas fornecidas. A rede possui três camadas:\n",
    "\n",
    "- **Camada 1**: Calcula `z1 = w1 * X + b1` e aplica a função sigmoide para obter a ativação `a1`.\n",
    "- **Camada 2**: Calcula `z2 = w2 * a1 + b2` e aplica a função sigmoide para obter a ativação `a2`.\n",
    "- **Camada 3**: Calcula `z3 = w3 * a2 + b3` e aplica a função sigmoide para obter a saída final da rede.\n",
    "\n",
    "#### 5. **Método `backward` (*backpropagation*)**\n",
    "\n",
    "O método `backward` implementa o algoritmo de *backpropagation*, que ajusta os pesos da rede com base no erro entre a saída prevista e a saída real. O erro é propagado de volta, e os gradientes são calculados para cada peso e bais. Esses gradientes são usados para atualizar os parâmetros da rede de forma a minimizar o erro.\n",
    "\n",
    "<img src=\"fig1.png\" width=\"600\" />\n",
    "\n",
    "- **Cálculo dos gradientes**: Para cada camada, os gradientes são calculados com base na derivada da função de ativação sigmoide.\n",
    "- **Atualização dos pesos e vieses**: Após calcular os gradientes, os pesos e vieses são atualizados de acordo com a taxa de aprendizado definida no início.\n",
    "\n",
    "#### 6. **Método `train` (Treinamento)**\n",
    "\n",
    "O método `train` é responsável pelo processo de treinamento da rede. Ele recebe as entradas (`X`), as saídas esperadas (`Y`) e o número de épocas (iterações) para o treinamento. Durante cada época, a rede realiza a propagação para frente e a *backpropagation* para ajustar os pesos.\n",
    "\n",
    "- **Erro total**: O erro quadrático total é calculado para cada iteração e registrado para monitorar o desempenho da rede durante o treinamento.\n",
    "- **Atualização dos pesos**: Após cada iteração, os pesos e vieses são ajustados, e o erro total é registrado."
   ]
  },
  {
   "cell_type": "code",
   "execution_count": 32,
   "id": "757b06cf-1974-402a-946e-5dea4f3545a4",
   "metadata": {},
   "outputs": [],
   "source": [
    "class NeuralNet:\n",
    "    def __init__(self):\n",
    "        self.w1, self.w2, self.w3, self.w4 = np.random.randn(4)\n",
    "        self.b1, self.b2, self.b3 = np.random.randn(3)\n",
    "        self.lr = 0.01 # Taxa de aprendizado\n",
    "\n",
    "    def sigmoid(self, X):\n",
    "        return 1 / (1 + np.exp(-X))\n",
    "\n",
    "    def sigmoid_derivative(self, X):\n",
    "        return X * (1 - X)\n",
    "\n",
    "    def forward(self, X):\n",
    "        self.z1 = self.w1 * X + self.b1\n",
    "        self.a1 = self.sigmoid(self.z1)\n",
    "\n",
    "        self.z2 = self.w2 * self.a1 + self.b2\n",
    "        self.a2 = self.sigmoid(self.z2)\n",
    "\n",
    "        self.z3 = self.w3 * self.a2 + self.b3\n",
    "        self.output = self.sigmoid(self.z3)\n",
    "\n",
    "        return self.output\n",
    "\n",
    "    def backward(self, X, y):\n",
    "        error = y - self.output\n",
    "        d_output = error * self.sigmoid_derivative(self.output)\n",
    "\n",
    "        d_z2 = d_output * self.w3 * self.sigmoid_derivative(self.a2)\n",
    "        d_w3 = self.a2 * d_output\n",
    "        d_b3 = d_output\n",
    "        \n",
    "        d_z1 = d_z2 * self.w2 * self.sigmoid_derivative(self.a1)\n",
    "        d_w2 = self.a1 * d_z2\n",
    "        d_b2 = d_z2\n",
    "        \n",
    "        d_w1 = X * d_z1\n",
    "        d_b1 = d_z1\n",
    "        \n",
    "        # Atualiza os pesos\n",
    "        self.w1 += self.lr * d_w1\n",
    "        self.w2 += self.lr * d_w2\n",
    "        self.w3 += self.lr * d_w3\n",
    "        self.b1 += self.lr * d_b1\n",
    "        self.b2 += self.lr * d_b2\n",
    "        self.b3 += self.lr * d_b3\n",
    "\n",
    "    def train(self, X, Y, epochs=1000):\n",
    "        errors = []\n",
    "        for _ in range(epochs):\n",
    "            total_error = 0\n",
    "            for x, y in zip(X, Y):\n",
    "                self.forward(x)\n",
    "                total_error += (y - self.output) ** 2\n",
    "                self.backward(x, y)\n",
    "            errors.append(total_error / len(X))\n",
    "        return errors"
   ]
  },
  {
   "cell_type": "markdown",
   "id": "cfc093b1-471c-489b-b1ce-1537239f75d0",
   "metadata": {},
   "source": [
    "Dados de entrada (pequeno exemplo)"
   ]
  },
  {
   "cell_type": "markdown",
   "id": "a1f8159d-2767-45e5-9e77-752eb6960264",
   "metadata": {},
   "source": [
    "### Definição dos Dados de Entrada e Saída\n",
    "\n",
    "Neste trecho de código, é usado os dados de entrada (`X`) e os dados de saída esperados (`Y`) para treinar a rede neural.\n",
    "\n",
    "- **Entrada (`X`)**: Os valores de entrada que serão fornecidos à rede neural durante o treinamento. \n",
    "  \n",
    "- **Saída Esperada (`Y`)**: Os valores desejados (ou verdadeiros) para cada entrada correspondente. "
   ]
  },
  {
   "cell_type": "code",
   "execution_count": 33,
   "id": "8491d236-a037-4594-9d6b-174da4c15645",
   "metadata": {},
   "outputs": [],
   "source": [
    "X = np.array([0,1,2,3])\n",
    "Y = np.array([0,1,1,0])"
   ]
  },
  {
   "cell_type": "markdown",
   "id": "785d1436-586b-4a6d-8fc8-1cf5d4f5bf82",
   "metadata": {},
   "source": [
    "### Criação e Treinamento do Modelo\n",
    "\n",
    "Neste trecho de código, é criado e treinado o modelo de rede neural definido anteriormente.\n",
    "\n",
    "- **Criação do Modelo (`nn_model`)**: A variável `nn_model` é uma instância da classe `NeuralNet`, que representa a rede neural. Ao criar essa instância, os pesos e *bias* da rede são inicializados, e a taxa de aprendizado é definida.\n",
    "\n",
    "- **Treinamento do Modelo (`errors_model`)**: A variável `errors_model` armazena o resultado do método `train`, que treina a rede neural utilizando os dados de entrada (`X`) e as saídas esperadas (`Y`)."
   ]
  },
  {
   "cell_type": "code",
   "execution_count": 34,
   "id": "de2f03df-1feb-4867-b3f4-e630dc7efd40",
   "metadata": {},
   "outputs": [],
   "source": [
    "nn_model = NeuralNet()\n",
    "errors_model = nn_model.train(X, Y)"
   ]
  },
  {
   "cell_type": "markdown",
   "id": "57fc7fbd-42ef-4311-92d9-819600ab283a",
   "metadata": {},
   "source": [
    "## Implementação no PyTorch"
   ]
  },
  {
   "cell_type": "markdown",
   "id": "2698cbc3-f15b-4a8e-8be7-a0126a00aeff",
   "metadata": {},
   "source": [
    "### Definição da Classe NeuralNetTorch com PyTorch\n",
    "\n",
    "Neste trecho de código, é definido uma rede neural utilizando a biblioteca **PyTorch**, que oferece uma implementação mais poderosa e flexível para redes neurais. A classe `NeuralNetTorch` herda de `nn.Module`, que é a classe base.\n",
    "\n",
    "#### 1. **Método `__init__`**\n",
    "\n",
    "O método `__init__` define as camadas da rede neural.\n",
    "\n",
    "- **`super(NeuralNetTorch, self).__init__()`**: Este comando chama o inicializador da classe base `nn.Module`, permitindo que a classe `NeuralNetTorch` herde todos os métodos e propriedades da classe `nn.Module`.\n",
    "  \n",
    "- **`self.dense1 = nn.Linear(1, 3)`**: Define a primeira camada densa da rede neural.\n",
    "  \n",
    "- **`self.dense2 = nn.Linear(3, 1)`**: Define a segunda camada densa da rede, que recebe uma entrada de dimensão 3 e gera uma saída de dimensão 1.\n",
    "\n",
    "- **`self.sigmoid = nn.Sigmoid()`**: Define a função de ativação *sigmoid*, que será aplicada após cada camada densa.\n",
    "\n",
    "#### 2. **Método `forward`**\n",
    "\n",
    "O método `forward` define como os dados fluem através da rede neural durante a inferência. Ele especifica a ordem das operações e a passagem dos dados através das camadas.\n",
    "\n",
    "- **`X = self.sigmoid(self.dense1(X))`**: Os dados de entrada `X` passam pela primeira camada densa `dense1` e, em seguida, são ativados pela função sigmoide.\n",
    "  \n",
    "- **`X = self.sigmoid(self.dense2(X))`**: A saída da primeira camada é passada pela segunda camada densa `dense2`, e novamente é ativada pela função sigmoide.\n",
    "\n",
    "- **Retorno**: A saída final da rede é retornada após a segunda camada."
   ]
  },
  {
   "cell_type": "code",
   "execution_count": 35,
   "id": "015ee35f-e0d0-474d-8a0f-6a97e10b54c1",
   "metadata": {},
   "outputs": [],
   "source": [
    "class NeuralNetTorch(nn.Module):\n",
    "    def __init__(self):\n",
    "        super(NeuralNetTorch, self).__init__()\n",
    "        self.dense1 = nn.Linear(1, 3)\n",
    "        self.dense2 = nn.Linear(3, 1)\n",
    "        self.sigmoid = nn.Sigmoid()\n",
    "\n",
    "    def forward(self, X):\n",
    "        X = self.sigmoid(self.dense1(X))\n",
    "        X = self.sigmoid(self.dense2(X))\n",
    "        return X"
   ]
  },
  {
   "cell_type": "markdown",
   "id": "dbcbfc9b-5b7e-4c9f-81e7-2ad6e34ee6e5",
   "metadata": {},
   "source": [
    "### Definição do Modelo, Função de Perda e Otimizador\n",
    "\n",
    "Neste trecho de código, é preparado o modelo para treinamento utilizando **PyTorch**, definindo a função de perda e o otimizador.\n",
    "\n",
    "#### 1. **Criação do Modelo (`model`)**\n",
    "\n",
    "- **`model = NeuralNetTorch()`**: Aqui, é criado uma instância da classe `NeuralNetTorch`, que define a arquitetura da rede neural. O modelo contém duas camadas densas e usa a função *sigmoid* como ativação.\n",
    "\n",
    "#### 2. **Função de Perda (`criterion`)**\n",
    "\n",
    "- **`criterion = nn.MSELoss()`**: A função de perda que a ser utilizado é a **MSELoss** (*Mean Squared Error Loss*). O objetivo do treinamento é minimizar essa função de perda, ou seja, reduzir a diferença entre a saída da rede e os valores reais.\n",
    "\n",
    "#### 3. **Otimizador (`optimizer`)**\n",
    "\n",
    "- **`optimizer = optim.SGD(model.parameters(), lr=0.01)`**: O otimizador que estamos utilizando é o **SGD (Stochastic Gradient Descent)**. Ele ajusta os pesos do modelo para minimizar a função de perda. Quanto menor for a taxa de aprendizado, mais lentamente o modelo aprenderá."
   ]
  },
  {
   "cell_type": "code",
   "execution_count": 36,
   "id": "d45ea1af-27d7-4771-b5a8-98bfb6b04101",
   "metadata": {},
   "outputs": [],
   "source": [
    "model = NeuralNetTorch()\n",
    "criterion = nn.MSELoss()\n",
    "optimizer = optim.SGD(model.parameters(), lr=0.01)"
   ]
  },
  {
   "cell_type": "markdown",
   "id": "970f57ba-adf4-434a-aafe-c2cec04dd1c8",
   "metadata": {},
   "source": [
    "### Preparando os dados"
   ]
  },
  {
   "cell_type": "markdown",
   "id": "54625c14-ef9e-4ffd-adab-07c39bb65ad6",
   "metadata": {},
   "source": [
    "### Conversão dos Dados para Tensores\n",
    "\n",
    "Neste trecho de código, estamos convertendo os dados de entrada (`X`) e as saídas esperadas (`Y`) em tensores do PyTorch. Isso é necessário porque o PyTorch trabalha com tensores para realizar cálculos e treinamentos de redes neurais.\n",
    "\n",
    "#### 1. **Conversão de `X` para Tensor (`X_torch`)**\n",
    "\n",
    "- **`X_torch = torch.tensor(X, dtype=torch.float32).view(-1, 1)`**: A variável `X` é convertida em um tensor do PyTorch com o tipo de dado `float32`, que é o formato esperado para os dados de entrada na rede neural. O método `view(-1, 1)` reorganiza os dados para que cada valor de `X` seja representado como uma matriz coluna, com dimensão `(n, 1)`, onde `n` é o número de exemplos de entrada.\n",
    "\n",
    "#### 2. **Conversão de `Y` para Tensor (`Y_torch`)**\n",
    "\n",
    "- **`Y_torch = torch.tensor(Y, dtype=torch.float32).view(-1, 1)`**: De maneira similar, os dados de saída `Y` são convertidos em um tensor `float32` e reorganizados para ter a forma de uma matriz coluna `(n, 1)`, onde cada valor de `Y` será mapeado para uma saída esperada correspondente.\n",
    "\n",
    "Esses tensores serão usados como entrada e saída durante o treinamento do modelo de rede neural no PyTorch.\n"
   ]
  },
  {
   "cell_type": "code",
   "execution_count": 37,
   "id": "2ec93d74-0e74-45d0-bcbb-6f67cc4f4577",
   "metadata": {},
   "outputs": [],
   "source": [
    "X_torch = torch.tensor(X, dtype=torch.float32).view(-1, 1)\n",
    "Y_torch = torch.tensor(Y, dtype=torch.float32).view(-1, 1)"
   ]
  },
  {
   "cell_type": "markdown",
   "id": "8f9906e7-9620-404f-89df-7c5b310e9cc8",
   "metadata": {},
   "source": [
    "### Treinamento da Rede no PyTorch\n",
    "\n",
    "Neste trecho de código, estamos treinando o modelo de rede neural utilizando o PyTorch. O processo de treinamento envolve a propagação dos dados para frente, cálculo da perda, retropropagação do erro e atualização dos pesos do modelo.\n",
    "\n",
    "#### 1. **Inicialização da Lista de Erros (`torch_errors`)**\n",
    "\n",
    "- **`torch_errors = []`**: Inicializamos uma lista vazia `torch_errors` para armazenar o erro (função de perda) de cada época do treinamento. Isso nos permite monitorar o desempenho do modelo ao longo do tempo.\n",
    "\n",
    "#### 2. **Loop de Treinamento**\n",
    "\n",
    "- **`for epoch in range(1000):`**: O loop de treinamento irá iterar por 1000 épocas (iterações), onde o modelo será ajustado progressivamente. Em cada época, o modelo realizará as operações de propagação para frente, cálculo da perda, retropropagação e atualização dos pesos.\n",
    "\n",
    "#### 3. **Propagação para Frente**\n",
    "\n",
    "- **`optimizer.zero_grad()`**: Antes de calcular os gradientes, é necessário zerar os gradientes acumulados das iterações anteriores, já que o PyTorch acumula os gradientes por padrão.\n",
    "\n",
    "- **`output = model(X_torch)`**: Os dados de entrada `X_torch` são passados pela rede neural (`model`) para gerar a saída `output`. Isso realiza a propagação para frente, onde os dados fluem através das camadas da rede.\n",
    "\n",
    "#### 4. **Cálculo da Perda**\n",
    "\n",
    "- **`loss = criterion(output, Y_torch)`**: A função de perda (`criterion`) calcula o erro entre a saída predita `output` e as saídas reais `Y_torch`. Nesse caso, estamos utilizando a **MSELoss** (Erro Quadrático Médio), que calcula a média das diferenças ao quadrado entre as saídas preditas e reais.\n",
    "\n",
    "#### 5. **Retropropagação e Atualização dos Pesos**\n",
    "\n",
    "- **`loss.backward()`**: A retropropagação do erro é realizada, calculando os gradientes dos pesos da rede com base na perda calculada. Esse processo ajusta os gradientes para minimizar o erro.\n",
    "\n",
    "- **`optimizer.step()`**: Após o cálculo dos gradientes, o otimizador (SGD) atualiza os p\n"
   ]
  },
  {
   "cell_type": "code",
   "execution_count": 38,
   "id": "52b7e4e5-5f90-474e-ad99-7bd5d945f200",
   "metadata": {},
   "outputs": [
    {
     "name": "stdout",
     "output_type": "stream",
     "text": [
      "Treinamento concluído!\n"
     ]
    }
   ],
   "source": [
    "# Treinamento da rede no PyTorch\n",
    "torch_errors = []\n",
    "for epoch in range(1000):\n",
    "    optimizer.zero_grad()\n",
    "    output = model(X_torch)\n",
    "    loss = criterion(output, Y_torch)\n",
    "    loss.backward()\n",
    "    optimizer.step()\n",
    "    torch_errors.append(loss.item())\n",
    "\n",
    "print(\"Treinamento concluído!\")"
   ]
  },
  {
   "cell_type": "markdown",
   "id": "2039e9ad-60aa-4a0b-b8bd-ac790f4a0573",
   "metadata": {},
   "source": [
    "### Plotando a Curva de Erro\n",
    "\n",
    "Neste trecho de código, estamos visualizando o desempenho do treinamento das duas redes neurais, uma implementada manualmente (com backpropagação) e outra utilizando o PyTorch, ao longo das 1000 épocas.\n",
    "\n",
    "#### 1. **Plotando os Erros**\n",
    "\n",
    "- **`plt.plot(errors_model, label='Erro - Backprop Manual')`**: Este comando plota a curva de erro da rede neural implementada manualmente, onde `errors_model` contém os erros médios calculados a cada época. O rótulo `'Erro - Backprop Manual'` será usado na legenda para identificar essa curva.\n",
    "\n",
    "- **`plt.plot(torch_errors, label='Erro - PyTorch')`**: Da mesma forma, este comando plota a curva de erro da rede neural treinada utilizando o PyTorch, com os valores armazenados na lista `torch_errors`. O rótulo `'Erro - PyTorch'` será usado na legenda para identificar essa curva.\n",
    "\n",
    "#### 2. **Configuração dos Eixos**\n",
    "\n",
    "- **`plt.xlabel('Épocas')`**: Define o rótulo do eixo x como \"Épocas\", representando o número de iterações de treinamento.\n",
    "\n",
    "- **`plt.ylabel('Erro')`**: Define o rótulo do eixo y como \"Erro\", representando o valor da função de perda em cada época.\n",
    "\n",
    "#### 3. **Legenda**\n",
    "\n",
    "- **`plt.legend()`**: Exibe a legenda no gráfico, ajudando a identificar as duas curvas, uma para o erro da rede manual e outra para o erro da rede PyTorch.\n",
    "\n",
    "#### 4. **Exibindo o Gráfico**\n",
    "\n",
    "- **`plt.show()`**: Exibe o gráfico na tela, permitindo visualizar as curvas de erro durante o treinamento de ambas as redes.\n",
    "\n",
    "O gráfico gerado permite comparar como o erro evolui durante o treinamento de ambas as redes, ajudando a visualizar a eficiência do modelo e o progresso do aprendizado.\n"
   ]
  },
  {
   "cell_type": "code",
   "execution_count": 39,
   "id": "7b4880ed-81af-4055-9cf0-a4550866c940",
   "metadata": {},
   "outputs": [
    {
     "data": {
      "image/png": "[encoded data removed]",
      "text/plain": [
       "<Figure size 640x480 with 1 Axes>"
      ]
     },
     "metadata": {},
     "output_type": "display_data"
    }
   ],
   "source": [
    "# Plotando a curva de erro\n",
    "plt.plot(errors_model, label='Erro - Backprop Manual')\n",
    "plt.plot(torch_errors, label='Erro - PyTorch')\n",
    "plt.xlabel('Épocas')\n",
    "plt.ylabel('Erro')\n",
    "plt.legend()\n",
    "plt.show()"
   ]
  }
 ],
 "metadata": {
  "kernelspec": {
   "display_name": "Python 3 (ipykernel)",
   "language": "python",
   "name": "python3"
  },
  "language_info": {
   "codemirror_mode": {
    "name": "ipython",
    "version": 3
   },
   "file_extension": ".py",
   "mimetype": "text/x-python",
   "name": "python",
   "nbconvert_exporter": "python",
   "pygments_lexer": "ipython3",
   "version": "3.12.8"
  }
 },
 "nbformat": 4,
 "nbformat_minor": 5
}
