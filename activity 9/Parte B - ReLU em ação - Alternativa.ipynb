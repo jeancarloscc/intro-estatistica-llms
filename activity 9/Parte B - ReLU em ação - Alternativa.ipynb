{
 "cells": [
  {
   "cell_type": "markdown",
   "id": "572e627a-f9d0-41cf-842b-5e3a5605eaab",
   "metadata": {},
   "source": [
    "# Simulação de Rede Neural com ReLU\n",
    "\n",
    "## Descrição Geral\n",
    "\n",
    "Esta implementação simula uma rede neural simples que utiliza a função de ativação ReLU. A rede segue a estrutura mostrada nos slides, com duas unidades escondidas e uma saída linear."
   ]
  },
  {
   "cell_type": "code",
   "execution_count": 1,
   "id": "c1d0eb07-2e07-466e-b08f-fe828adbfbd7",
   "metadata": {},
   "outputs": [],
   "source": [
    "import numpy as np\n",
    "import torch\n",
    "import torch.nn as nn\n",
    "import torch.optim as optim\n",
    "import matplotlib.pyplot as plt"
   ]
  },
  {
   "cell_type": "code",
   "execution_count": 2,
   "id": "33f6022f-a406-4257-ae91-47d897facf34",
   "metadata": {},
   "outputs": [],
   "source": [
    "# Implementação Manual com os valores da rede\n",
    "class ManualReLUNetwork:\n",
    "    def __init__(self):\n",
    "        # Pesos e bias conforme a imagem\n",
    "        self.w1, self.b1 = 3.34, -1.43\n",
    "        self.w2, self.b2 = -3.53, 0.57\n",
    "        self.w_out1, self.w_out2 = -1.22, -2.30\n",
    "        self.b_out = 2.61\n",
    "    \n",
    "    def relu(self, x):\n",
    "        return np.maximum(0, x)\n",
    "    \n",
    "    def forward(self, x):\n",
    "        z1 = self.w1 * x + self.b1\n",
    "        a1 = self.relu(z1)\n",
    "        \n",
    "        z2 = self.w2 * x + self.b2\n",
    "        a2 = self.relu(z2)\n",
    "        \n",
    "        output = self.w_out1 * a1 + self.w_out2 * a2 + self.b_out\n",
    "        return output"
   ]
  },
  {
   "cell_type": "code",
   "execution_count": 3,
   "id": "a0d779f1-3cb8-4728-9134-7b39a12465e6",
   "metadata": {},
   "outputs": [
    {
     "name": "stdout",
     "output_type": "stream",
     "text": [
      "Saída da rede manual para entrada 1: 0.2797999999999998\n"
     ]
    }
   ],
   "source": [
    "# Teste da rede manual\n",
    "X_test = np.array([1])  # Exemplo de entrada\n",
    "nn_manual = ManualReLUNetwork()\n",
    "output_manual = nn_manual.forward(X_test[0])\n",
    "print(f\"Saída da rede manual para entrada {X_test[0]}: {output_manual}\")"
   ]
  },
  {
   "cell_type": "code",
   "execution_count": 4,
   "id": "d5163332-6632-4c1f-87d4-635de51cb09f",
   "metadata": {},
   "outputs": [],
   "source": [
    "# Implementação no PyTorch\n",
    "class PyTorchReLUNetwork(nn.Module):\n",
    "    def __init__(self):\n",
    "        super(PyTorchReLUNetwork, self).__init__()\n",
    "        self.fc1 = nn.Linear(1, 2, bias=True)  # Entrada para 2 neurônios\n",
    "        self.fc1.weight = nn.Parameter(torch.tensor([[3.34], [-3.53]]))\n",
    "        self.fc1.bias = nn.Parameter(torch.tensor([-1.43, 0.57]))\n",
    "        \n",
    "        self.fc2 = nn.Linear(2, 1, bias=True)  # 2 neurônios para saída\n",
    "        self.fc2.weight = nn.Parameter(torch.tensor([[-1.22, -2.30]]))\n",
    "        self.fc2.bias = nn.Parameter(torch.tensor([2.61]))\n",
    "        \n",
    "        self.relu = nn.ReLU()\n",
    "    \n",
    "    def forward(self, x):\n",
    "        x = self.relu(self.fc1(x))\n",
    "        x = self.fc2(x)\n",
    "        return x"
   ]
  },
  {
   "cell_type": "code",
   "execution_count": 5,
   "id": "0b162b06-faeb-4acd-a8da-e63aa6909306",
   "metadata": {},
   "outputs": [
    {
     "name": "stdout",
     "output_type": "stream",
     "text": [
      "Saída da rede PyTorch para entrada 1: 0.2797999382019043\n"
     ]
    }
   ],
   "source": [
    "# Teste da rede no PyTorch\n",
    "model = PyTorchReLUNetwork()\n",
    "X_torch = torch.tensor([[1.0]])\n",
    "output_torch = model(X_torch)\n",
    "print(f\"Saída da rede PyTorch para entrada {X_test[0]}: {output_torch.item()}\")"
   ]
  }
 ],
 "metadata": {
  "kernelspec": {
   "display_name": "Python 3 (ipykernel)",
   "language": "python",
   "name": "python3"
  },
  "language_info": {
   "codemirror_mode": {
    "name": "ipython",
    "version": 3
   },
   "file_extension": ".py",
   "mimetype": "text/x-python",
   "name": "python",
   "nbconvert_exporter": "python",
   "pygments_lexer": "ipython3",
   "version": "3.12.8"
  }
 },
 "nbformat": 4,
 "nbformat_minor": 5
}
