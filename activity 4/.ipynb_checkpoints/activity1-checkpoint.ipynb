{
 "cells": [
  {
   "cell_type": "markdown",
   "id": "0a976f72-6cc0-4bea-97be-e3e896ef77db",
   "metadata": {},
   "source": [
    "## Activity 1: Estimando um Intervalo de Confiança para a Média"
   ]
  },
  {
   "cell_type": "markdown",
   "id": "750cceff-e7b0-4c33-afb6-c85a9f75b065",
   "metadata": {},
   "source": [
    "Obtenha um conjunto de dados amostrais (por exemplo, pesos de indivíduos, notas de testes, etc.).\n",
    "\n",
    "Calcule o intervalo de confiança de 95% para a média da população seguindo os passos:\n",
    "Calcular a média e o desvio padrão da amostra.\n",
    "Usar a fórmula para intervalo de confiança ou a biblioteca scipy.stats.\n",
    "Desafio: Repetir o processo para diferentes níveis de confiança (por exemplo, 90%, 99%) e comparar os resultados.\n",
    "\n",
    "Visualizar os intervalos de confiança em um gráfico usando matplotlib para mostrar a variabilidade.\n"
   ]
  },
  {
   "cell_type": "code",
   "execution_count": 1,
   "id": "27535f6a-b517-4466-847e-198aea3c317d",
   "metadata": {},
   "outputs": [],
   "source": [
    "import pandas as pd\n",
    "import numpy as np\n",
    "from scipy.stats import norm\n",
    "from scipy import stats\n",
    "import seaborn as sns\n",
    "import math"
   ]
  },
  {
   "cell_type": "code",
   "execution_count": 2,
   "id": "f2fc2d12-ec59-4fa4-8c68-e5adf94e5cc0",
   "metadata": {},
   "outputs": [],
   "source": [
    "dataset = pd.read_csv(\"../dados_poscomp_completo.csv\")"
   ]
  },
  {
   "cell_type": "code",
   "execution_count": 4,
   "id": "5831353b-0b4a-46eb-b359-53223240c507",
   "metadata": {},
   "outputs": [],
   "source": [
    "dataset.dropna(inplace=True)"
   ]
  },
  {
   "cell_type": "code",
   "execution_count": 6,
   "id": "f0cb6458-d1b5-437e-9191-6dbe86481b42",
   "metadata": {},
   "outputs": [],
   "source": [
    "dataset['total'] = dataset['matematica'] + dataset['fund_computacao'] + dataset['tec_computacao']"
   ]
  },
  {
   "cell_type": "code",
   "execution_count": 33,
   "id": "b91330ed-8cad-4669-9f48-5e97c59c8a65",
   "metadata": {},
   "outputs": [],
   "source": [
    "dataset = dataset.query(\"presença != 'n'\")"
   ]
  },
  {
   "cell_type": "code",
   "execution_count": 34,
   "id": "6b476693-9c4b-4e14-8957-6173e851e5d2",
   "metadata": {},
   "outputs": [
    {
     "data": {
      "text/plain": [
       "11949"
      ]
     },
     "execution_count": 34,
     "metadata": {},
     "output_type": "execute_result"
    }
   ],
   "source": [
    "sample_size = len(dataset)\n",
    "sample_size"
   ]
  },
  {
   "cell_type": "code",
   "execution_count": 35,
   "id": "ca786052-62a1-47d1-af4d-f8529f19afc7",
   "metadata": {},
   "outputs": [],
   "source": [
    "total_score = dataset['total'].values"
   ]
  },
  {
   "cell_type": "code",
   "execution_count": 36,
   "id": "11202111-5659-4553-9df8-ea2b94bae635",
   "metadata": {},
   "outputs": [
    {
     "data": {
      "image/png": "[encoded data removed]",
      "text/plain": [
       "<Figure size 640x480 with 1 Axes>"
      ]
     },
     "metadata": {},
     "output_type": "display_data"
    }
   ],
   "source": [
    "sns.histplot(total_score, kde=True);"
   ]
  },
  {
   "cell_type": "code",
   "execution_count": 37,
   "id": "85d86d3d-84bd-4def-aef3-d91104d73fed",
   "metadata": {},
   "outputs": [
    {
     "data": {
      "text/plain": [
       "np.float64(29.938237509415014)"
      ]
     },
     "execution_count": 37,
     "metadata": {},
     "output_type": "execute_result"
    }
   ],
   "source": [
    "# Realizar a média\n",
    "mean = np.mean(total_score)\n",
    "mean"
   ]
  },
  {
   "cell_type": "code",
   "execution_count": 38,
   "id": "5c474edf-40f8-4e46-8740-bcc4393814ff",
   "metadata": {},
   "outputs": [
    {
     "data": {
      "text/plain": [
       "np.float64(7.697946678706096)"
      ]
     },
     "execution_count": 38,
     "metadata": {},
     "output_type": "execute_result"
    }
   ],
   "source": [
    "standard_deviation = np.std(total_score)\n",
    "standard_deviation"
   ]
  },
  {
   "cell_type": "code",
   "execution_count": 39,
   "id": "8690e93f-7c22-4606-bad3-4933fa0f89d2",
   "metadata": {},
   "outputs": [
    {
     "data": {
      "text/plain": [
       "np.float64(0.07042507068890201)"
      ]
     },
     "execution_count": 39,
     "metadata": {},
     "output_type": "execute_result"
    }
   ],
   "source": [
    "stats.sem(total_score)"
   ]
  },
  {
   "cell_type": "code",
   "execution_count": 41,
   "id": "8bc393b4-10b8-46d7-b60a-fd4060dd71ef",
   "metadata": {},
   "outputs": [
    {
     "data": {
      "text/plain": [
       "np.float64(0.07042507068890201)"
      ]
     },
     "execution_count": 41,
     "metadata": {},
     "output_type": "execute_result"
    }
   ],
   "source": [
    "standard_deviation / math.sqrt(sample_size - 1)"
   ]
  },
  {
   "cell_type": "markdown",
   "id": "bfd49972-8b17-4d80-a769-e92f950be826",
   "metadata": {},
   "source": [
    "### Confiança com 95%"
   ]
  },
  {
   "cell_type": "code",
   "execution_count": 42,
   "id": "28054454-b193-4774-982d-99b849e8284b",
   "metadata": {},
   "outputs": [
    {
     "data": {
      "text/plain": [
       "(np.float64(29.80020690725608), np.float64(30.07626811157395))"
      ]
     },
     "execution_count": 42,
     "metadata": {},
     "output_type": "execute_result"
    }
   ],
   "source": [
    "intervals = norm.interval(0.95, mean, stats.sem(total_score))\n",
    "intervals"
   ]
  },
  {
   "cell_type": "code",
   "execution_count": 43,
   "id": "53b8b4d9-5429-4382-9ad9-dc0bc63d7db5",
   "metadata": {},
   "outputs": [
    {
     "data": {
      "text/plain": [
       "np.float64(0.1380306021589348)"
      ]
     },
     "execution_count": 43,
     "metadata": {},
     "output_type": "execute_result"
    }
   ],
   "source": [
    "margem_erro = mean - intervals[0]\n",
    "margem_erro"
   ]
  },
  {
   "cell_type": "markdown",
   "id": "8acf0d33-dee4-4277-a401-9beb32432445",
   "metadata": {},
   "source": [
    "### Com diferentes niveis"
   ]
  },
  {
   "cell_type": "markdown",
   "id": "b557d210-1e5b-46ba-a479-a619b8cace2d",
   "metadata": {},
   "source": [
    "#### 90%"
   ]
  },
  {
   "cell_type": "code",
   "execution_count": 44,
   "id": "7dc66706-e4e5-443c-a601-9233465b8c4d",
   "metadata": {},
   "outputs": [
    {
     "data": {
      "text/plain": [
       "(np.float64(29.82239857646406), np.float64(30.054076442365968))"
      ]
     },
     "execution_count": 44,
     "metadata": {},
     "output_type": "execute_result"
    }
   ],
   "source": [
    "intervals_90 = norm.interval(0.90, mean, stats.sem(total_score))\n",
    "intervals_90"
   ]
  },
  {
   "cell_type": "code",
   "execution_count": 45,
   "id": "ada4e5a8-1c3e-40ec-ae9b-bc4082d0fcd9",
   "metadata": {},
   "outputs": [
    {
     "data": {
      "text/plain": [
       "np.float64(0.11583893295095393)"
      ]
     },
     "execution_count": 45,
     "metadata": {},
     "output_type": "execute_result"
    }
   ],
   "source": [
    "margem_erro = mean - intervals_90[0]\n",
    "margem_erro"
   ]
  },
  {
   "cell_type": "markdown",
   "id": "b43740b1-7cf2-4df8-87c3-b63ec2400ea0",
   "metadata": {},
   "source": [
    "#### 99%"
   ]
  },
  {
   "cell_type": "code",
   "execution_count": 46,
   "id": "10fd7146-05b1-405b-a079-fcae1d6f3f3a",
   "metadata": {},
   "outputs": [
    {
     "data": {
      "text/plain": [
       "(np.float64(29.75683454863004), np.float64(30.11964047019999))"
      ]
     },
     "execution_count": 46,
     "metadata": {},
     "output_type": "execute_result"
    }
   ],
   "source": [
    "intervals_99 = norm.interval(0.99, mean, stats.sem(total_score))\n",
    "intervals_99"
   ]
  },
  {
   "cell_type": "code",
   "execution_count": 47,
   "id": "af20efb9-c0ea-4680-91b1-0d7c3b5a9714",
   "metadata": {},
   "outputs": [
    {
     "data": {
      "text/plain": [
       "np.float64(0.18140296078497542)"
      ]
     },
     "execution_count": 47,
     "metadata": {},
     "output_type": "execute_result"
    }
   ],
   "source": [
    "margem_erro = mean - intervals_99[0]\n",
    "margem_erro"
   ]
  },
  {
   "cell_type": "markdown",
   "id": "b7eb4866-5b7d-4a77-86a1-ad380a5daf62",
   "metadata": {},
   "source": [
    "#### 85%"
   ]
  },
  {
   "cell_type": "code",
   "execution_count": 48,
   "id": "8f9d64d9-2ec1-4a3f-923d-7a8a14d88622",
   "metadata": {},
   "outputs": [
    {
     "data": {
      "text/plain": [
       "(np.float64(29.836858403815274), np.float64(30.039616615014754))"
      ]
     },
     "execution_count": 48,
     "metadata": {},
     "output_type": "execute_result"
    }
   ],
   "source": [
    "intervals_85 = norm.interval(0.85, mean, stats.sem(total_score))\n",
    "intervals_85"
   ]
  },
  {
   "cell_type": "code",
   "execution_count": 49,
   "id": "8cb558ff-1768-444e-b2dc-d5cf7e303c62",
   "metadata": {},
   "outputs": [
    {
     "data": {
      "text/plain": [
       "np.float64(0.10137910559974017)"
      ]
     },
     "execution_count": 49,
     "metadata": {},
     "output_type": "execute_result"
    }
   ],
   "source": [
    "margem_erro = mean - intervals_85[0]\n",
    "margem_erro"
   ]
  }
 ],
 "metadata": {
  "kernelspec": {
   "display_name": "Python 3 (ipykernel)",
   "language": "python",
   "name": "python3"
  },
  "language_info": {
   "codemirror_mode": {
    "name": "ipython",
    "version": 3
   },
   "file_extension": ".py",
   "mimetype": "text/x-python",
   "name": "python",
   "nbconvert_exporter": "python",
   "pygments_lexer": "ipython3",
   "version": "3.12.8"
  }
 },
 "nbformat": 4,
 "nbformat_minor": 5
}
