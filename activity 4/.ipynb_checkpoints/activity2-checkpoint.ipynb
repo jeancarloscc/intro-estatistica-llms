{
 "cells": [
  {
   "cell_type": "markdown",
   "id": "a57e3100-cb97-4710-be7c-fd3c61d8da5f",
   "metadata": {},
   "source": [
    "<p>Forneça dois conjuntos de dados: um para um grupo de controle e outro para um grupo de teste.\n",
    "Formule a hipótese nula.\n",
    "Realizar um teste t de duas amostras usando scipy.stats.ttest_ind.\n",
    "\n",
    "Interpretar o p-value resultante e decidir se rejeitam a hipótese nula em um nível de significância dado (por exemplo, 0,05). </p>"
   ]
  },
  {
   "cell_type": "code",
   "execution_count": 21,
   "id": "6b060c76-4ee1-48d7-9b60-e86992b3f9aa",
   "metadata": {},
   "outputs": [],
   "source": [
    "import pandas as pd\n",
    "from scipy.stats import ttest_ind"
   ]
  },
  {
   "cell_type": "code",
   "execution_count": 12,
   "id": "390ce5e2-9548-4cf9-a261-26d563af7a29",
   "metadata": {},
   "outputs": [],
   "source": [
    "df = pd.read_csv('../dados_poscomp_completo.csv')"
   ]
  },
  {
   "cell_type": "code",
   "execution_count": 13,
   "id": "c2cd8e29-8308-4adf-9e05-40e4b7160770",
   "metadata": {},
   "outputs": [],
   "source": [
    "df['total'] = df['matematica'] + df['fund_computacao'] + df['tec_computacao']"
   ]
  },
  {
   "cell_type": "code",
   "execution_count": 14,
   "id": "70ec3138-c8eb-4cae-ba6c-ef6612cfc78e",
   "metadata": {},
   "outputs": [
    {
     "data": {
      "text/html": [
       "<div>\n",
       "<style scoped>\n",
       "    .dataframe tbody tr th:only-of-type {\n",
       "        vertical-align: middle;\n",
       "    }\n",
       "\n",
       "    .dataframe tbody tr th {\n",
       "        vertical-align: top;\n",
       "    }\n",
       "\n",
       "    .dataframe thead th {\n",
       "        text-align: right;\n",
       "    }\n",
       "</style>\n",
       "<table border=\"1\" class=\"dataframe\">\n",
       "  <thead>\n",
       "    <tr style=\"text-align: right;\">\n",
       "      <th></th>\n",
       "      <th>idade</th>\n",
       "      <th>sexo</th>\n",
       "      <th>estado</th>\n",
       "      <th>presença</th>\n",
       "      <th>cargo</th>\n",
       "      <th>especialidade</th>\n",
       "      <th>matematica</th>\n",
       "      <th>fund_computacao</th>\n",
       "      <th>tec_computacao</th>\n",
       "      <th>ano</th>\n",
       "      <th>total</th>\n",
       "    </tr>\n",
       "  </thead>\n",
       "  <tbody>\n",
       "    <tr>\n",
       "      <th>0</th>\n",
       "      <td>1989-11-29</td>\n",
       "      <td>masculino</td>\n",
       "      <td>ce</td>\n",
       "      <td>s</td>\n",
       "      <td>mestrado/doutorado</td>\n",
       "      <td>teoria da computação</td>\n",
       "      <td>14.0</td>\n",
       "      <td>21.0</td>\n",
       "      <td>10.0</td>\n",
       "      <td>2016</td>\n",
       "      <td>45.0</td>\n",
       "    </tr>\n",
       "    <tr>\n",
       "      <th>1</th>\n",
       "      <td>1995-02-23</td>\n",
       "      <td>masculino</td>\n",
       "      <td>rs</td>\n",
       "      <td>s</td>\n",
       "      <td>mestrado/doutorado</td>\n",
       "      <td>metodologias e técnicas de computação</td>\n",
       "      <td>16.0</td>\n",
       "      <td>22.0</td>\n",
       "      <td>12.0</td>\n",
       "      <td>2016</td>\n",
       "      <td>50.0</td>\n",
       "    </tr>\n",
       "    <tr>\n",
       "      <th>2</th>\n",
       "      <td>1991-12-13</td>\n",
       "      <td>masculino</td>\n",
       "      <td>sp</td>\n",
       "      <td>s</td>\n",
       "      <td>mestrado/doutorado</td>\n",
       "      <td>engenharia de software</td>\n",
       "      <td>4.0</td>\n",
       "      <td>16.0</td>\n",
       "      <td>8.0</td>\n",
       "      <td>2016</td>\n",
       "      <td>28.0</td>\n",
       "    </tr>\n",
       "    <tr>\n",
       "      <th>3</th>\n",
       "      <td>1986-09-29</td>\n",
       "      <td>masculino</td>\n",
       "      <td>pa</td>\n",
       "      <td>s</td>\n",
       "      <td>mestrado/doutorado</td>\n",
       "      <td>sistemas de informação</td>\n",
       "      <td>4.0</td>\n",
       "      <td>13.0</td>\n",
       "      <td>7.0</td>\n",
       "      <td>2016</td>\n",
       "      <td>24.0</td>\n",
       "    </tr>\n",
       "    <tr>\n",
       "      <th>4</th>\n",
       "      <td>1997-12-26</td>\n",
       "      <td>feminino</td>\n",
       "      <td>am</td>\n",
       "      <td>s</td>\n",
       "      <td>mestrado/doutorado</td>\n",
       "      <td>computação gráfica</td>\n",
       "      <td>6.0</td>\n",
       "      <td>15.0</td>\n",
       "      <td>11.0</td>\n",
       "      <td>2016</td>\n",
       "      <td>32.0</td>\n",
       "    </tr>\n",
       "  </tbody>\n",
       "</table>\n",
       "</div>"
      ],
      "text/plain": [
       "        idade       sexo estado presença               cargo  \\\n",
       "0  1989-11-29  masculino     ce        s  mestrado/doutorado   \n",
       "1  1995-02-23  masculino     rs        s  mestrado/doutorado   \n",
       "2  1991-12-13  masculino     sp        s  mestrado/doutorado   \n",
       "3  1986-09-29  masculino     pa        s  mestrado/doutorado   \n",
       "4  1997-12-26   feminino     am        s  mestrado/doutorado   \n",
       "\n",
       "                           especialidade  matematica  fund_computacao  \\\n",
       "0                   teoria da computação        14.0             21.0   \n",
       "1  metodologias e técnicas de computação        16.0             22.0   \n",
       "2                 engenharia de software         4.0             16.0   \n",
       "3                 sistemas de informação         4.0             13.0   \n",
       "4                     computação gráfica         6.0             15.0   \n",
       "\n",
       "   tec_computacao   ano  total  \n",
       "0            10.0  2016   45.0  \n",
       "1            12.0  2016   50.0  \n",
       "2             8.0  2016   28.0  \n",
       "3             7.0  2016   24.0  \n",
       "4            11.0  2016   32.0  "
      ]
     },
     "execution_count": 14,
     "metadata": {},
     "output_type": "execute_result"
    }
   ],
   "source": [
    "df.head()"
   ]
  },
  {
   "cell_type": "code",
   "execution_count": 28,
   "id": "62c5313b-1deb-4d55-aab5-32f2632f1892",
   "metadata": {},
   "outputs": [],
   "source": [
    "df = df.query(\"presença != 'n' and cargo == 'mestrado/doutorado'\")"
   ]
  },
  {
   "cell_type": "markdown",
   "id": "6d48c0da-8126-4509-8f12-1f62306a70de",
   "metadata": {},
   "source": [
    "<h4>Hipótese nula -- H0:</h4> \n",
    "<p> <b>Não há diferença significativa entre as médias das notas totais dos dois grupos (exemplo: PA, RS)</b> </p>\n",
    "\n",
    "<h4>Hipotese alternativa -- H1</h4>\n",
    "<p> <b> Há uma diferença significativa entre as médias das notas totais dos dois grupos.</p>"
   ]
  },
  {
   "cell_type": "code",
   "execution_count": 35,
   "id": "b6156f91-95c0-4570-bcf0-ecedafaca2e6",
   "metadata": {},
   "outputs": [
    {
     "name": "stdout",
     "output_type": "stream",
     "text": [
      "Resultados do Teste T:\n",
      "Estatística t = -10.208351507895845\n",
      "p-value = 9.065364283189097e-24\n",
      "Rejeitamos a hipótese nula (p < 0.05). Há diferença significativa entre os grupos.\n"
     ]
    }
   ],
   "source": [
    "# Separar os grupos com base no estado (por exemplo, PA e RS)\n",
    "grupo_pa = df[df[\"estado\"] == \"pa\"][\"total\"]\n",
    "grupo_rs = df[df[\"estado\"] == \"rs\"][\"total\"]\n",
    "\n",
    "# Realizar o teste t de duas amostras\n",
    "stat, p_value = ttest_ind(grupo_pa, grupo_rs)\n",
    "\n",
    "# Definir o nível de significância\n",
    "significancia = 0.05\n",
    "\n",
    "# Resultados\n",
    "print(\"Resultados do Teste T:\")\n",
    "print(\"Estatística t =\", stat)\n",
    "print(\"p-value =\", p_value)\n",
    "\n",
    "if p_value < significancia:\n",
    "    print(f\"Rejeitamos a hipótese nula (p < {significancia}). Há diferença significativa entre os grupos.\")\n",
    "else:\n",
    "    print(f\"Não rejeitamos a hipótese nula (p >= {significancia}). Não há evidências de diferença significativa entre os grupos.\")\n"
   ]
  },
  {
   "cell_type": "code",
   "execution_count": null,
   "id": "4ba9697f-1c20-489c-8cfb-ffea4f7f9feb",
   "metadata": {},
   "outputs": [],
   "source": []
  }
 ],
 "metadata": {
  "kernelspec": {
   "display_name": "Python 3 (ipykernel)",
   "language": "python",
   "name": "python3"
  },
  "language_info": {
   "codemirror_mode": {
    "name": "ipython",
    "version": 3
   },
   "file_extension": ".py",
   "mimetype": "text/x-python",
   "name": "python",
   "nbconvert_exporter": "python",
   "pygments_lexer": "ipython3",
   "version": "3.12.8"
  }
 },
 "nbformat": 4,
 "nbformat_minor": 5
}
