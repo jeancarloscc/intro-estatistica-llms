{
 "cells": [
  {
   "cell_type": "code",
   "execution_count": 4,
   "id": "90a994c5-0d98-4643-8847-2ec5b9a1cbe9",
   "metadata": {},
   "outputs": [
    {
     "name": "stdout",
     "output_type": "stream",
     "text": [
      "Number of simulations: 10000\n",
      "Significance level (alpha): 0.01\n",
      "Proportion of significant results (Type I error rate): 0.0094\n"
     ]
    }
   ],
   "source": [
    "import numpy as np\n",
    "from scipy.stats import ttest_ind\n",
    "\n",
    "\n",
    "num_simulations = 10000\n",
    "sample_size = 30\n",
    "true_mean = 50\n",
    "true_std = 10\n",
    "significance_level = 0.01\n",
    "\n",
    "\n",
    "significant_results = 0\n",
    "\n",
    "\n",
    "for _ in range(num_simulations):\n",
    "\n",
    "    group1 = np.random.normal(true_mean, true_std, sample_size)\n",
    "    group2 = np.random.normal(true_mean, true_std, sample_size)\n",
    "\n",
    "\n",
    "    t_stat, p_value = ttest_ind(group1, group2)\n",
    "\n",
    "\n",
    "    if p_value < significance_level:\n",
    "        significant_results += 1\n",
    "\n",
    "\n",
    "proportion_significant = significant_results / num_simulations\n",
    "\n",
    "\n",
    "print(f\"Number of simulations: {num_simulations}\")\n",
    "print(f\"Significance level (alpha): {significance_level}\")\n",
    "print(f\"Proportion of significant results (Type I error rate): {proportion_significant:.4f}\")\n"
   ]
  },
  {
   "cell_type": "code",
   "execution_count": null,
   "id": "5967eb6b-00ac-42c4-be88-ed76801b2936",
   "metadata": {},
   "outputs": [],
   "source": []
  }
 ],
 "metadata": {
  "kernelspec": {
   "display_name": "Python 3 (ipykernel)",
   "language": "python",
   "name": "python3"
  },
  "language_info": {
   "codemirror_mode": {
    "name": "ipython",
    "version": 3
   },
   "file_extension": ".py",
   "mimetype": "text/x-python",
   "name": "python",
   "nbconvert_exporter": "python",
   "pygments_lexer": "ipython3",
   "version": "3.12.8"
  }
 },
 "nbformat": 4,
 "nbformat_minor": 5
}
