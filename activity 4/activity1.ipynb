{
 "cells": [
  {
   "cell_type": "markdown",
   "id": "0a976f72-6cc0-4bea-97be-e3e896ef77db",
   "metadata": {},
   "source": [
    "## Activity 1: Estimando um Intervalo de Confiança para a Média"
   ]
  },
  {
   "cell_type": "markdown",
   "id": "750cceff-e7b0-4c33-afb6-c85a9f75b065",
   "metadata": {},
   "source": [
    "Obtenha um conjunto de dados amostrais (por exemplo, pesos de indivíduos, notas de testes, etc.).\n",
    "\n",
    "Calcule o intervalo de confiança de 95% para a média da população seguindo os passos:\n",
    "Calcular a média e o desvio padrão da amostra.\n",
    "Usar a fórmula para intervalo de confiança ou a biblioteca scipy.stats.\n",
    "Desafio: Repetir o processo para diferentes níveis de confiança (por exemplo, 90%, 99%) e comparar os resultados.\n",
    "\n",
    "Visualizar os intervalos de confiança em um gráfico usando matplotlib para mostrar a variabilidade.\n"
   ]
  },
  {
   "cell_type": "code",
   "execution_count": 27,
   "id": "27535f6a-b517-4466-847e-198aea3c317d",
   "metadata": {},
   "outputs": [],
   "source": [
    "import pandas as pd\n",
    "import numpy as np\n",
    "from scipy.stats import norm\n",
    "from scipy import stats\n",
    "import seaborn as sns\n",
    "import math"
   ]
  },
  {
   "cell_type": "code",
   "execution_count": 28,
   "id": "f2fc2d12-ec59-4fa4-8c68-e5adf94e5cc0",
   "metadata": {},
   "outputs": [],
   "source": [
    "dataset = pd.read_csv(\"../dados_poscomp_completo.csv\")"
   ]
  },
  {
   "cell_type": "code",
   "execution_count": 29,
   "id": "5831353b-0b4a-46eb-b359-53223240c507",
   "metadata": {},
   "outputs": [],
   "source": [
    "dataset.dropna(inplace=True)"
   ]
  },
  {
   "cell_type": "code",
   "execution_count": 30,
   "id": "f0cb6458-d1b5-437e-9191-6dbe86481b42",
   "metadata": {},
   "outputs": [],
   "source": [
    "dataset['total'] = dataset['matematica'] + dataset['fund_computacao'] + dataset['tec_computacao']"
   ]
  },
  {
   "cell_type": "code",
   "execution_count": 31,
   "id": "b91330ed-8cad-4669-9f48-5e97c59c8a65",
   "metadata": {},
   "outputs": [],
   "source": [
    "dataset = dataset.query(\"presença != 'n'\")"
   ]
  },
  {
   "cell_type": "code",
   "execution_count": 32,
   "id": "6b476693-9c4b-4e14-8957-6173e851e5d2",
   "metadata": {},
   "outputs": [
    {
     "data": {
      "text/plain": [
       "11949"
      ]
     },
     "execution_count": 32,
     "metadata": {},
     "output_type": "execute_result"
    }
   ],
   "source": [
    "sample_size = len(dataset)\n",
    "sample_size"
   ]
  },
  {
   "cell_type": "code",
   "execution_count": 33,
   "id": "ca786052-62a1-47d1-af4d-f8529f19afc7",
   "metadata": {},
   "outputs": [],
   "source": [
    "total_score = dataset['total'].values"
   ]
  },
  {
   "cell_type": "code",
   "execution_count": 34,
   "id": "11202111-5659-4553-9df8-ea2b94bae635",
   "metadata": {},
   "outputs": [
    {
     "data": {
      "image/png": "[encoded data removed]",
      "text/plain": [
       "<Figure size 640x480 with 1 Axes>"
      ]
     },
     "metadata": {},
     "output_type": "display_data"
    }
   ],
   "source": [
    "sns.histplot(total_score, kde=True);"
   ]
  },
  {
   "cell_type": "code",
   "execution_count": 35,
   "id": "85d86d3d-84bd-4def-aef3-d91104d73fed",
   "metadata": {},
   "outputs": [
    {
     "data": {
      "text/plain": [
       "np.float64(29.938237509415014)"
      ]
     },
     "execution_count": 35,
     "metadata": {},
     "output_type": "execute_result"
    }
   ],
   "source": [
    "# Realizar a média\n",
    "mean = np.mean(total_score)\n",
    "mean"
   ]
  },
  {
   "cell_type": "code",
   "execution_count": 36,
   "id": "5c474edf-40f8-4e46-8740-bcc4393814ff",
   "metadata": {},
   "outputs": [
    {
     "data": {
      "text/plain": [
       "np.float64(7.697946678706096)"
      ]
     },
     "execution_count": 36,
     "metadata": {},
     "output_type": "execute_result"
    }
   ],
   "source": [
    "standard_deviation = np.std(total_score)\n",
    "standard_deviation"
   ]
  },
  {
   "cell_type": "code",
   "execution_count": 37,
   "id": "8690e93f-7c22-4606-bad3-4933fa0f89d2",
   "metadata": {},
   "outputs": [
    {
     "data": {
      "text/plain": [
       "np.float64(0.07042507068890201)"
      ]
     },
     "execution_count": 37,
     "metadata": {},
     "output_type": "execute_result"
    }
   ],
   "source": [
    "stats.sem(total_score)"
   ]
  },
  {
   "cell_type": "code",
   "execution_count": 38,
   "id": "8bc393b4-10b8-46d7-b60a-fd4060dd71ef",
   "metadata": {},
   "outputs": [
    {
     "data": {
      "text/plain": [
       "np.float64(0.07042507068890201)"
      ]
     },
     "execution_count": 38,
     "metadata": {},
     "output_type": "execute_result"
    }
   ],
   "source": [
    "standard_deviation / math.sqrt(sample_size - 1)"
   ]
  },
  {
   "cell_type": "markdown",
   "id": "bfd49972-8b17-4d80-a769-e92f950be826",
   "metadata": {},
   "source": [
    "### Confiança com 95%"
   ]
  },
  {
   "cell_type": "code",
   "execution_count": 39,
   "id": "28054454-b193-4774-982d-99b849e8284b",
   "metadata": {},
   "outputs": [
    {
     "data": {
      "text/plain": [
       "(np.float64(29.80020690725608), np.float64(30.07626811157395))"
      ]
     },
     "execution_count": 39,
     "metadata": {},
     "output_type": "execute_result"
    }
   ],
   "source": [
    "intervals = norm.interval(0.95, mean, stats.sem(total_score))\n",
    "intervals"
   ]
  },
  {
   "cell_type": "code",
   "execution_count": 40,
   "id": "53b8b4d9-5429-4382-9ad9-dc0bc63d7db5",
   "metadata": {},
   "outputs": [
    {
     "data": {
      "text/plain": [
       "np.float64(0.1380306021589348)"
      ]
     },
     "execution_count": 40,
     "metadata": {},
     "output_type": "execute_result"
    }
   ],
   "source": [
    "margem_erro = mean - intervals[0]\n",
    "margem_erro"
   ]
  },
  {
   "cell_type": "markdown",
   "id": "8acf0d33-dee4-4277-a401-9beb32432445",
   "metadata": {},
   "source": [
    "### Com diferentes niveis"
   ]
  },
  {
   "cell_type": "markdown",
   "id": "b557d210-1e5b-46ba-a479-a619b8cace2d",
   "metadata": {},
   "source": [
    "#### 90%"
   ]
  },
  {
   "cell_type": "code",
   "execution_count": 41,
   "id": "7dc66706-e4e5-443c-a601-9233465b8c4d",
   "metadata": {},
   "outputs": [
    {
     "data": {
      "text/plain": [
       "(np.float64(29.82239857646406), np.float64(30.054076442365968))"
      ]
     },
     "execution_count": 41,
     "metadata": {},
     "output_type": "execute_result"
    }
   ],
   "source": [
    "intervals_90 = norm.interval(0.90, mean, stats.sem(total_score))\n",
    "intervals_90"
   ]
  },
  {
   "cell_type": "code",
   "execution_count": 42,
   "id": "ada4e5a8-1c3e-40ec-ae9b-bc4082d0fcd9",
   "metadata": {},
   "outputs": [
    {
     "data": {
      "text/plain": [
       "np.float64(0.11583893295095393)"
      ]
     },
     "execution_count": 42,
     "metadata": {},
     "output_type": "execute_result"
    }
   ],
   "source": [
    "margem_erro = mean - intervals_90[0]\n",
    "margem_erro"
   ]
  },
  {
   "cell_type": "markdown",
   "id": "b43740b1-7cf2-4df8-87c3-b63ec2400ea0",
   "metadata": {},
   "source": [
    "#### 99%"
   ]
  },
  {
   "cell_type": "code",
   "execution_count": 43,
   "id": "10fd7146-05b1-405b-a079-fcae1d6f3f3a",
   "metadata": {},
   "outputs": [
    {
     "data": {
      "text/plain": [
       "(np.float64(29.75683454863004), np.float64(30.11964047019999))"
      ]
     },
     "execution_count": 43,
     "metadata": {},
     "output_type": "execute_result"
    }
   ],
   "source": [
    "intervals_99 = norm.interval(0.99, mean, stats.sem(total_score))\n",
    "intervals_99"
   ]
  },
  {
   "cell_type": "code",
   "execution_count": 44,
   "id": "af20efb9-c0ea-4680-91b1-0d7c3b5a9714",
   "metadata": {},
   "outputs": [
    {
     "data": {
      "text/plain": [
       "np.float64(0.18140296078497542)"
      ]
     },
     "execution_count": 44,
     "metadata": {},
     "output_type": "execute_result"
    }
   ],
   "source": [
    "margem_erro = mean - intervals_99[0]\n",
    "margem_erro"
   ]
  },
  {
   "cell_type": "markdown",
   "id": "b7eb4866-5b7d-4a77-86a1-ad380a5daf62",
   "metadata": {},
   "source": [
    "#### 85%"
   ]
  },
  {
   "cell_type": "code",
   "execution_count": 45,
   "id": "8f9d64d9-2ec1-4a3f-923d-7a8a14d88622",
   "metadata": {},
   "outputs": [
    {
     "data": {
      "text/plain": [
       "(np.float64(29.836858403815274), np.float64(30.039616615014754))"
      ]
     },
     "execution_count": 45,
     "metadata": {},
     "output_type": "execute_result"
    }
   ],
   "source": [
    "intervals_85 = norm.interval(0.85, mean, stats.sem(total_score))\n",
    "intervals_85"
   ]
  },
  {
   "cell_type": "code",
   "execution_count": 46,
   "id": "8cb558ff-1768-444e-b2dc-d5cf7e303c62",
   "metadata": {},
   "outputs": [
    {
     "data": {
      "text/plain": [
       "np.float64(0.10137910559974017)"
      ]
     },
     "execution_count": 46,
     "metadata": {},
     "output_type": "execute_result"
    }
   ],
   "source": [
    "margem_erro = mean - intervals_85[0]\n",
    "margem_erro"
   ]
  },
  {
   "cell_type": "markdown",
   "id": "c2ad0d1b-ab0d-47bf-9575-43395f9b3e24",
   "metadata": {},
   "source": [
    "#### Agora plotar os intervalos de confiança"
   ]
  },
  {
   "cell_type": "code",
   "execution_count": 51,
   "id": "ca20c33c-efc6-442a-a5f6-c0178e3a5386",
   "metadata": {},
   "outputs": [],
   "source": [
    "# Calculando a média e os intervalos de confiança\n",
    "mean = np.mean(total_score)\n",
    "confidence_levels = [0.80, 0.85, 0.90, 0.95, 0.99]  # Diferentes níveis de confiança\n",
    "intervals = [\n",
    "    norm.interval(conf, loc=mean, scale=sem(total_score)) \n",
    "    for conf in confidence_levels\n",
    "]"
   ]
  },
  {
   "cell_type": "code",
   "execution_count": 52,
   "id": "50b0e7ea-1de2-4095-9469-c30c90ef7722",
   "metadata": {},
   "outputs": [],
   "source": [
    "# Criar o dataframe.\n",
    "# Criando o DataFrame\n",
    "df = pd.DataFrame({\n",
    "    'nivel_confianca': [f'{int(conf * 100)}%' for conf in confidence_levels],\n",
    "    'IC_inferior': [ci[0] for ci in intervals],\n",
    "    'media': mean,\n",
    "    'IC_superior': [ci[1] for ci in intervals]\n",
    "})"
   ]
  },
  {
   "cell_type": "code",
   "execution_count": 53,
   "id": "7d0655ee-792b-4806-9f8a-fac2f93ff4d1",
   "metadata": {},
   "outputs": [
    {
     "data": {
      "text/html": [
       "<div>\n",
       "<style scoped>\n",
       "    .dataframe tbody tr th:only-of-type {\n",
       "        vertical-align: middle;\n",
       "    }\n",
       "\n",
       "    .dataframe tbody tr th {\n",
       "        vertical-align: top;\n",
       "    }\n",
       "\n",
       "    .dataframe thead th {\n",
       "        text-align: right;\n",
       "    }\n",
       "</style>\n",
       "<table border=\"1\" class=\"dataframe\">\n",
       "  <thead>\n",
       "    <tr style=\"text-align: right;\">\n",
       "      <th></th>\n",
       "      <th>nivel_confianca</th>\n",
       "      <th>IC_inferior</th>\n",
       "      <th>media</th>\n",
       "      <th>IC_superior</th>\n",
       "    </tr>\n",
       "  </thead>\n",
       "  <tbody>\n",
       "    <tr>\n",
       "      <th>0</th>\n",
       "      <td>80%</td>\n",
       "      <td>29.847984</td>\n",
       "      <td>29.938238</td>\n",
       "      <td>30.028491</td>\n",
       "    </tr>\n",
       "    <tr>\n",
       "      <th>1</th>\n",
       "      <td>85%</td>\n",
       "      <td>29.836858</td>\n",
       "      <td>29.938238</td>\n",
       "      <td>30.039617</td>\n",
       "    </tr>\n",
       "    <tr>\n",
       "      <th>2</th>\n",
       "      <td>90%</td>\n",
       "      <td>29.822399</td>\n",
       "      <td>29.938238</td>\n",
       "      <td>30.054076</td>\n",
       "    </tr>\n",
       "    <tr>\n",
       "      <th>3</th>\n",
       "      <td>95%</td>\n",
       "      <td>29.800207</td>\n",
       "      <td>29.938238</td>\n",
       "      <td>30.076268</td>\n",
       "    </tr>\n",
       "    <tr>\n",
       "      <th>4</th>\n",
       "      <td>99%</td>\n",
       "      <td>29.756835</td>\n",
       "      <td>29.938238</td>\n",
       "      <td>30.119640</td>\n",
       "    </tr>\n",
       "  </tbody>\n",
       "</table>\n",
       "</div>"
      ],
      "text/plain": [
       "  nivel_confianca  IC_inferior      media  IC_superior\n",
       "0             80%    29.847984  29.938238    30.028491\n",
       "1             85%    29.836858  29.938238    30.039617\n",
       "2             90%    29.822399  29.938238    30.054076\n",
       "3             95%    29.800207  29.938238    30.076268\n",
       "4             99%    29.756835  29.938238    30.119640"
      ]
     },
     "execution_count": 53,
     "metadata": {},
     "output_type": "execute_result"
    }
   ],
   "source": [
    "df"
   ]
  },
  {
   "cell_type": "code",
   "execution_count": 54,
   "id": "88c66c52-4794-40ad-8a3a-abca1d102a89",
   "metadata": {},
   "outputs": [
    {
     "data": {
      "image/png": "[encoded data removed]",
      "text/plain": [
       "<Figure size 800x600 with 1 Axes>"
      ]
     },
     "metadata": {},
     "output_type": "display_data"
    }
   ],
   "source": [
    "plt.figure(figsize=(8, 6))\n",
    "for i, row in df.iterrows():\n",
    "    plt.errorbar(\n",
    "        x=row['nivel_confianca'], y=row['media'], \n",
    "        yerr=[[row['media'] - row['IC_inferior']], [row['IC_superior'] - row['media']]], \n",
    "        fmt='o', capsize=5, label=f\"{row['nivel_confianca']} IC\", color='blue'\n",
    "    )\n",
    "\n",
    "# Configurações do gráfico\n",
    "plt.title('Intervalos de Confiança em Diferentes Níveis')\n",
    "plt.ylabel('Média')\n",
    "plt.xlabel('Nível de Confiança')\n",
    "plt.grid(axis='y', linestyle='--', alpha=0.6)\n",
    "plt.legend()\n",
    "plt.show()"
   ]
  },
  {
   "cell_type": "markdown",
   "id": "20997e7e-112d-43e7-ae8d-d32c84a3028e",
   "metadata": {},
   "source": [
    "Aqui está a explicação formatada em **Markdown**:\n",
    "\n",
    "---\n",
    "\n",
    "# Análise dos Intervalos de Confiança das Notas do POSCOMP (2016–2023)\n",
    "\n",
    "## **Contexto**\n",
    "Os dados analisados referem-se às notas dos alunos que realizaram o POSCOMP entre os anos de 2016 e 2023. A análise foi conduzida para determinar a **média das notas** e calcular os **intervalos de confiança (IC)**, visando avaliar a estabilidade das médias e a incerteza associada.\n",
    "\n",
    "---\n",
    "\n",
    "## **Resultados**\n",
    "\n",
    "### **Média das Notas**\n",
    "- A média geral das notas é **29,938**.\n",
    "- Essa média é uma **estimativa pontual** da média verdadeira da população (todos os participantes do POSCOMP no período analisado).\n",
    "\n",
    "### **Intervalos de Confiança**\n",
    "Os intervalos de confiança calculados para diferentes níveis de confiança foram os seguintes:\n",
    "\n",
    "| **Nível de Confiança** | **IC Inferior** | **Média** | **IC Superior** | **Amplitude do IC** |\n",
    "|-------------------------|-----------------|-----------|-----------------|---------------------|\n",
    "| 90%                    | 29,822          | 29,938    | 30,054          | 0,232              |\n",
    "| 95%                    | 29,800          | 29,938    | 30,076          | 0,276              |\n",
    "| 99%                    | 29,757          | 29,938    | 30,120          | 0,363              |\n",
    "\n",
    "---\n",
    "\n",
    "## **Interpretação Estatística**\n",
    "\n",
    "### **O que representam os Intervalos de Confiança?**\n",
    "- Um **intervalo de confiança** indica a faixa de valores dentro da qual acreditamos, com um certo grau de confiança, que a **média verdadeira das notas** do POSCOMP se encontra.\n",
    "- **Por exemplo**:\n",
    "  - Para o intervalo de 95% $(29,800 \\leq \\mu \\leq 30,076)$, há **95% de confiança de que a média verdadeira das notas do POSCOMP esteja dentro desse intervalo**.\n",
    "\n",
    "### **Relação entre Nível de Confiança e Amplitude**\n",
    "- À medida que o nível de confiança aumenta, o intervalo de confiança se torna mais **amplo**:\n",
    "  - **90%**: Maior precisão, mas menor certeza de capturar a média verdadeira.\n",
    "  - **99%**: Menor precisão (intervalo mais amplo), mas maior certeza de conter a média verdadeira.\n",
    "\n",
    "### **Interpretação no Contexto do POSCOMP**\n",
    "1. **Consistência das Notas**:\n",
    "   - Os intervalos de confiança são **relativamente estreitos**, sugerindo que a média das notas é estável e confiável ao longo dos anos analisados (2016–2023).\n",
    "   \n",
    "2. **Importância Educacional**:\n",
    "   - A análise dos intervalos de confiança ajuda a verificar se as notas médias permanecem consistentes ao longo dos anos.\n",
    "   - Esses resultados podem ser usados para avaliar:\n",
    "     - A **qualidade e dificuldade do exame**.\n",
    "     - **Mudanças no desempenho médio** dos candidatos ao longo do tempo.\n",
    "\n",
    "3. **Recomendação para Relatórios**:\n",
    "   - O intervalo de confiança de **95%** é o mais recomendado para relatórios educacionais, pois oferece um bom equilíbrio entre precisão e confiança.\n",
    "\n",
    "---\n",
    "\n",
    "## **Conclusão**\n",
    "- A **média das notas do POSCOMP** entre 2016 e 2023 é **29,938**.\n",
    "- Os intervalos de confiança mostram que, com **95% de confiança**, a média verdadeira está entre **29,800** e **30,076**.\n",
    "- Essa análise confirma a **estabilidade das notas médias**, oferecendo uma base confiável para análises futuras e tomadas de decisão educacionais.\n",
    "\n",
    "---\n",
    "\n",
    "Se precisar de mais análises ou visualizações adicionais, como segmentação por ano ou gráficos, é só avisar!"
   ]
  }
 ],
 "metadata": {
  "kernelspec": {
   "display_name": "Python 3 (ipykernel)",
   "language": "python",
   "name": "python3"
  },
  "language_info": {
   "codemirror_mode": {
    "name": "ipython",
    "version": 3
   },
   "file_extension": ".py",
   "mimetype": "text/x-python",
   "name": "python",
   "nbconvert_exporter": "python",
   "pygments_lexer": "ipython3",
   "version": "3.12.8"
  }
 },
 "nbformat": 4,
 "nbformat_minor": 5
}
