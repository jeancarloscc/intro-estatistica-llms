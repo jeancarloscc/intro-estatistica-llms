{
 "cells": [
  {
   "cell_type": "markdown",
   "id": "a57e3100-cb97-4710-be7c-fd3c61d8da5f",
   "metadata": {},
   "source": [
    "<p>Forneça dois conjuntos de dados: um para um grupo de controle e outro para um grupo de teste.\n",
    "Formule a hipótese nula.\n",
    "Realizar um teste t de duas amostras usando scipy.stats.ttest_ind.\n",
    "\n",
    "Interpretar o p-value resultante e decidir se rejeitam a hipótese nula em um nível de significância dado (por exemplo, 0,05). </p>"
   ]
  },
  {
   "cell_type": "code",
   "execution_count": 4,
   "id": "6b060c76-4ee1-48d7-9b60-e86992b3f9aa",
   "metadata": {},
   "outputs": [],
   "source": [
    "import pandas as pd\n",
    "from scipy.stats import ttest_ind"
   ]
  },
  {
   "cell_type": "code",
   "execution_count": 7,
   "id": "390ce5e2-9548-4cf9-a261-26d563af7a29",
   "metadata": {},
   "outputs": [],
   "source": [
    "df = pd.read_csv('../dados_poscomp.csv')"
   ]
  },
  {
   "cell_type": "markdown",
   "id": "6d48c0da-8126-4509-8f12-1f62306a70de",
   "metadata": {},
   "source": [
    "<h4>Hipótese nula -- H0:</h4> \n",
    "<p> <b>Não há diferença significativa entre as médias das notas totais dos dois grupos (exemplo: PA, RS)</b> </p>\n",
    "\n",
    "<h4>Hipotese alternativa -- H1</h4>\n",
    "<p> <b> Há uma diferença significativa entre as médias das notas totais dos dois grupos.</p>"
   ]
  },
  {
   "cell_type": "code",
   "execution_count": 6,
   "id": "b6156f91-95c0-4570-bcf0-ecedafaca2e6",
   "metadata": {},
   "outputs": [
    {
     "name": "stdout",
     "output_type": "stream",
     "text": [
      "Resultados do Teste T:\n",
      "Estatística t = -10.261740945419579\n",
      "p-value = 5.386279485119103e-24\n",
      "Rejeitamos a hipótese nula (p < 0.05). Há diferença significativa entre os grupos.\n"
     ]
    }
   ],
   "source": [
    "# Separar os grupos com base no estado (por exemplo, PA e RS)\n",
    "grupo_pa = df[df[\"estado\"] == \"pa\"][\"notaTotal\"]\n",
    "grupo_rs = df[df[\"estado\"] == \"rs\"][\"notaTotal\"]\n",
    "\n",
    "# Realizar o teste t de duas amostras\n",
    "stat, p_value = ttest_ind(grupo_pa, grupo_rs)\n",
    "\n",
    "# Definir o nível de significância\n",
    "significancia = 0.05\n",
    "\n",
    "# Resultados\n",
    "print(\"Resultados do Teste T:\")\n",
    "print(\"Estatística t =\", stat)\n",
    "print(\"p-value =\", p_value)\n",
    "\n",
    "if p_value < significancia:\n",
    "    print(f\"Rejeitamos a hipótese nula (p < {significancia}). Há diferença significativa entre os grupos.\")\n",
    "else:\n",
    "    print(f\"Não rejeitamos a hipótese nula (p >= {significancia}). Não há evidências de diferença significativa entre os grupos.\")\n"
   ]
  },
  {
   "cell_type": "code",
   "execution_count": null,
   "id": "4ba9697f-1c20-489c-8cfb-ffea4f7f9feb",
   "metadata": {},
   "outputs": [],
   "source": []
  }
 ],
 "metadata": {
  "kernelspec": {
   "display_name": "Python 3 (ipykernel)",
   "language": "python",
   "name": "python3"
  },
  "language_info": {
   "codemirror_mode": {
    "name": "ipython",
    "version": 3
   },
   "file_extension": ".py",
   "mimetype": "text/x-python",
   "name": "python",
   "nbconvert_exporter": "python",
   "pygments_lexer": "ipython3",
   "version": "3.12.8"
  }
 },
 "nbformat": 4,
 "nbformat_minor": 5
}
